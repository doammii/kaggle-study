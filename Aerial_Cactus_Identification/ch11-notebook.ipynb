{
 "cells": [
  {
   "cell_type": "markdown",
   "id": "44602248",
   "metadata": {
    "papermill": {
     "duration": 0.003695,
     "end_time": "2022-02-16T07:20:01.996644",
     "exception": false,
     "start_time": "2022-02-16T07:20:01.992949",
     "status": "completed"
    },
    "tags": []
   },
   "source": [
    "# 11장 항공 사진 내 선인장 식별 경진대회 환경 세팅된 노트북 양식"
   ]
  },
  {
   "cell_type": "code",
   "execution_count": null,
   "id": "b12415e4",
   "metadata": {
    "papermill": {
     "duration": 0.002323,
     "end_time": "2022-02-16T07:20:02.001831",
     "exception": false,
     "start_time": "2022-02-16T07:20:01.999508",
     "status": "completed"
    },
    "tags": []
   },
   "outputs": [],
   "source": []
  }
 ],
 "metadata": {
  "kernelspec": {
   "display_name": "Python 3",
   "language": "python",
   "name": "python3"
  },
  "language_info": {
   "codemirror_mode": {
    "name": "ipython",
    "version": 3
   },
   "file_extension": ".py",
   "mimetype": "text/x-python",
   "name": "python",
   "nbconvert_exporter": "python",
   "pygments_lexer": "ipython3",
   "version": "3.7.10"
  },
  "papermill": {
   "default_parameters": {},
   "duration": 10.813209,
   "end_time": "2022-02-16T07:20:03.555476",
   "environment_variables": {},
   "exception": null,
   "input_path": "__notebook__.ipynb",
   "output_path": "__notebook__.ipynb",
   "parameters": {},
   "start_time": "2022-02-16T07:19:52.742267",
   "version": "2.3.3"
  }
 },
 "nbformat": 4,
 "nbformat_minor": 5
}
