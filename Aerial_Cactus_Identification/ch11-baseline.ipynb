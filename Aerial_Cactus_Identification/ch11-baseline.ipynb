{
 "cells": [
  {
   "cell_type": "markdown",
   "id": "15dc23a2",
   "metadata": {
    "papermill": {
     "duration": 0.023125,
     "end_time": "2022-03-06T06:11:01.126224",
     "exception": false,
     "start_time": "2022-03-06T06:11:01.103099",
     "status": "completed"
    },
    "tags": []
   },
   "source": [
    "# 11.3 항공 사진 내 선인장 식별 경진대회 베이스라인 모델\n",
    "- [항공 사진 내 선인장 식별 경진대회 링크](https://www.kaggle.com/c/aerial-cactus-identification)\n",
    "- [베이스라인 코드 참고 링크](https://www.kaggle.com/bonhart/simple-cnn-on-pytorch-for-beginers)"
   ]
  },
  {
   "cell_type": "markdown",
   "id": "e64aa5e4",
   "metadata": {
    "papermill": {
     "duration": 0.021136,
     "end_time": "2022-03-06T06:11:01.169163",
     "exception": false,
     "start_time": "2022-03-06T06:11:01.148027",
     "status": "completed"
    },
    "tags": []
   },
   "source": [
    "## 11.3.1 시드 값 고정 및 GPU 장비 설정"
   ]
  },
  {
   "cell_type": "markdown",
   "id": "c57d589f",
   "metadata": {
    "papermill": {
     "duration": 0.020828,
     "end_time": "2022-03-06T06:11:01.211261",
     "exception": false,
     "start_time": "2022-03-06T06:11:01.190433",
     "status": "completed"
    },
    "tags": []
   },
   "source": [
    "### 시드 값 고정"
   ]
  },
  {
   "cell_type": "code",
   "execution_count": 1,
   "id": "e03efc98",
   "metadata": {
    "execution": {
     "iopub.execute_input": "2022-03-06T06:11:01.267694Z",
     "iopub.status.busy": "2022-03-06T06:11:01.264501Z",
     "iopub.status.idle": "2022-03-06T06:11:05.623513Z",
     "shell.execute_reply": "2022-03-06T06:11:05.622627Z"
    },
    "papermill": {
     "duration": 4.388598,
     "end_time": "2022-03-06T06:11:05.623680",
     "exception": false,
     "start_time": "2022-03-06T06:11:01.235082",
     "status": "completed"
    },
    "tags": []
   },
   "outputs": [],
   "source": [
    "import torch # 파이토치 \n",
    "import random\n",
    "import numpy as np\n",
    "import os\n",
    "\n",
    "# 시드값 고정\n",
    "seed = 50\n",
    "os.environ['PYTHONHASHSEED'] = str(seed)\n",
    "random.seed(seed)                # 파이썬 난수 생성기 시드 고정\n",
    "np.random.seed(seed)             # 넘파이 난수 생성기 시드 고정\n",
    "torch.manual_seed(seed)          # 파이토치 난수 생성기 시드 고정 (CPU 사용 시)\n",
    "torch.cuda.manual_seed(seed)     # 파이토치 난수 생성기 시드 고정 (GPU 사용 시)\n",
    "torch.cuda.manual_seed_all(seed) # 파이토치 난수 생성기 시드 고정 (멀티GPU 사용 시)\n",
    "torch.backends.cudnn.deterministic = True # 확정적 연산 사용\n",
    "torch.backends.cudnn.benchmark = False    # 벤치마크 기능 해제\n",
    "torch.backends.cudnn.enabled = False      # cudnn 사용 해제"
   ]
  },
  {
   "cell_type": "markdown",
   "id": "f180d4f1",
   "metadata": {
    "papermill": {
     "duration": 0.023926,
     "end_time": "2022-03-06T06:11:05.671532",
     "exception": false,
     "start_time": "2022-03-06T06:11:05.647606",
     "status": "completed"
    },
    "tags": []
   },
   "source": [
    "### GPU 장비 설정"
   ]
  },
  {
   "cell_type": "code",
   "execution_count": 2,
   "id": "a85bee23",
   "metadata": {
    "execution": {
     "iopub.execute_input": "2022-03-06T06:11:05.758852Z",
     "iopub.status.busy": "2022-03-06T06:11:05.758294Z",
     "iopub.status.idle": "2022-03-06T06:11:05.762450Z",
     "shell.execute_reply": "2022-03-06T06:11:05.761722Z"
    },
    "papermill": {
     "duration": 0.068048,
     "end_time": "2022-03-06T06:11:05.762570",
     "exception": false,
     "start_time": "2022-03-06T06:11:05.694522",
     "status": "completed"
    },
    "tags": []
   },
   "outputs": [],
   "source": [
    "if torch.cuda.is_available():\n",
    "    device = torch.device('cuda')\n",
    "else:\n",
    "    device = torch.device('cpu')"
   ]
  },
  {
   "cell_type": "code",
   "execution_count": 3,
   "id": "a0fe6a12",
   "metadata": {
    "execution": {
     "iopub.execute_input": "2022-03-06T06:11:05.814929Z",
     "iopub.status.busy": "2022-03-06T06:11:05.814331Z",
     "iopub.status.idle": "2022-03-06T06:11:05.817329Z",
     "shell.execute_reply": "2022-03-06T06:11:05.817716Z"
    },
    "papermill": {
     "duration": 0.03099,
     "end_time": "2022-03-06T06:11:05.817841",
     "exception": false,
     "start_time": "2022-03-06T06:11:05.786851",
     "status": "completed"
    },
    "tags": []
   },
   "outputs": [
    {
     "data": {
      "text/plain": [
       "device(type='cuda')"
      ]
     },
     "execution_count": 3,
     "metadata": {},
     "output_type": "execute_result"
    }
   ],
   "source": [
    "device"
   ]
  },
  {
   "cell_type": "markdown",
   "id": "542fd20a",
   "metadata": {
    "papermill": {
     "duration": 0.02133,
     "end_time": "2022-03-06T06:11:05.861734",
     "exception": false,
     "start_time": "2022-03-06T06:11:05.840404",
     "status": "completed"
    },
    "tags": []
   },
   "source": [
    "## 11.3.2 데이터 준비"
   ]
  },
  {
   "cell_type": "code",
   "execution_count": 4,
   "id": "3f25b4fd",
   "metadata": {
    "execution": {
     "iopub.execute_input": "2022-03-06T06:11:05.909309Z",
     "iopub.status.busy": "2022-03-06T06:11:05.906614Z",
     "iopub.status.idle": "2022-03-06T06:11:05.949151Z",
     "shell.execute_reply": "2022-03-06T06:11:05.948449Z"
    },
    "papermill": {
     "duration": 0.066111,
     "end_time": "2022-03-06T06:11:05.949258",
     "exception": false,
     "start_time": "2022-03-06T06:11:05.883147",
     "status": "completed"
    },
    "tags": []
   },
   "outputs": [],
   "source": [
    "import pandas as pd\n",
    "\n",
    "# 데이터 경로\n",
    "data_path = '/kaggle/input/aerial-cactus-identification/'\n",
    "\n",
    "labels = pd.read_csv(data_path + 'train.csv')\n",
    "submission = pd.read_csv(data_path + 'sample_submission.csv')"
   ]
  },
  {
   "cell_type": "code",
   "execution_count": 5,
   "id": "82a7e147",
   "metadata": {
    "execution": {
     "iopub.execute_input": "2022-03-06T06:11:05.996847Z",
     "iopub.status.busy": "2022-03-06T06:11:05.996347Z",
     "iopub.status.idle": "2022-03-06T06:11:08.664489Z",
     "shell.execute_reply": "2022-03-06T06:11:08.663556Z"
    },
    "papermill": {
     "duration": 2.693327,
     "end_time": "2022-03-06T06:11:08.664637",
     "exception": false,
     "start_time": "2022-03-06T06:11:05.971310",
     "status": "completed"
    },
    "tags": []
   },
   "outputs": [],
   "source": [
    "from zipfile import ZipFile\n",
    "\n",
    "# 훈련 이미지 데이터 압축 풀기\n",
    "with ZipFile(data_path + 'train.zip') as zipper:\n",
    "    zipper.extractall()\n",
    "    \n",
    "# 테스트 이미지 데이터 압 풀기\n",
    "with ZipFile(data_path + 'test.zip') as zipper:\n",
    "    zipper.extractall()"
   ]
  },
  {
   "cell_type": "markdown",
   "id": "8926741d",
   "metadata": {
    "papermill": {
     "duration": 0.021849,
     "end_time": "2022-03-06T06:11:08.709134",
     "exception": false,
     "start_time": "2022-03-06T06:11:08.687285",
     "status": "completed"
    },
    "tags": []
   },
   "source": [
    "### 훈련 데이터, 검증 데이터 분리"
   ]
  },
  {
   "cell_type": "code",
   "execution_count": 6,
   "id": "2f9d1768",
   "metadata": {
    "_uuid": "c07eab67e573c7de05e11065b5bafc1bbff284fb",
    "execution": {
     "iopub.execute_input": "2022-03-06T06:11:08.757726Z",
     "iopub.status.busy": "2022-03-06T06:11:08.757056Z",
     "iopub.status.idle": "2022-03-06T06:11:09.576817Z",
     "shell.execute_reply": "2022-03-06T06:11:09.576286Z"
    },
    "papermill": {
     "duration": 0.845747,
     "end_time": "2022-03-06T06:11:09.576976",
     "exception": false,
     "start_time": "2022-03-06T06:11:08.731229",
     "status": "completed"
    },
    "tags": []
   },
   "outputs": [],
   "source": [
    "from sklearn.model_selection import train_test_split\n",
    "\n",
    "# 훈련 데이터, 검증 데이터 분리\n",
    "train, valid = train_test_split(labels, \n",
    "                                test_size=0.1,\n",
    "                                stratify=labels['has_cactus'],\n",
    "                                random_state=50)"
   ]
  },
  {
   "cell_type": "code",
   "execution_count": 7,
   "id": "beb00b23",
   "metadata": {
    "execution": {
     "iopub.execute_input": "2022-03-06T06:11:09.632004Z",
     "iopub.status.busy": "2022-03-06T06:11:09.631206Z",
     "iopub.status.idle": "2022-03-06T06:11:09.635115Z",
     "shell.execute_reply": "2022-03-06T06:11:09.634563Z"
    },
    "papermill": {
     "duration": 0.033489,
     "end_time": "2022-03-06T06:11:09.635227",
     "exception": false,
     "start_time": "2022-03-06T06:11:09.601738",
     "status": "completed"
    },
    "tags": []
   },
   "outputs": [
    {
     "name": "stdout",
     "output_type": "stream",
     "text": [
      "훈련 데이터 개수: 15750\n",
      "검증 데이터 개수: 1750\n"
     ]
    }
   ],
   "source": [
    "print('훈련 데이터 개수:', len(train))\n",
    "print('검증 데이터 개수:', len(valid))"
   ]
  },
  {
   "cell_type": "markdown",
   "id": "5fcec660",
   "metadata": {
    "papermill": {
     "duration": 0.024054,
     "end_time": "2022-03-06T06:11:09.683362",
     "exception": false,
     "start_time": "2022-03-06T06:11:09.659308",
     "status": "completed"
    },
    "tags": []
   },
   "source": [
    "### 데이터셋 클래스 정의"
   ]
  },
  {
   "cell_type": "code",
   "execution_count": 8,
   "id": "1d0b4649",
   "metadata": {
    "_uuid": "1b05af8d59d9d5b092e96f72dfebb19591416de9",
    "execution": {
     "iopub.execute_input": "2022-03-06T06:11:09.739628Z",
     "iopub.status.busy": "2022-03-06T06:11:09.738993Z",
     "iopub.status.idle": "2022-03-06T06:11:09.866221Z",
     "shell.execute_reply": "2022-03-06T06:11:09.865773Z"
    },
    "papermill": {
     "duration": 0.158841,
     "end_time": "2022-03-06T06:11:09.866343",
     "exception": false,
     "start_time": "2022-03-06T06:11:09.707502",
     "status": "completed"
    },
    "tags": []
   },
   "outputs": [],
   "source": [
    "import cv2 # OpenCV 라이브러리\n",
    "from torch.utils.data import Dataset # 데이터 생성을 위한 클래스\n",
    "\n",
    "class ImageDataset(Dataset):\n",
    "    # 초기화 메서드(생성자)\n",
    "    def __init__(self, df, img_dir='./', transform=None):\n",
    "        super().__init__() # 상속받은 Dataset의 생성자 호출\n",
    "        # 전달받은 인수들 저장\n",
    "        self.df = df\n",
    "        self.img_dir = img_dir\n",
    "        self.transform = transform\n",
    "    \n",
    "    # 데이터셋 크기 반환 메서드 \n",
    "    def __len__(self):\n",
    "        return len(self.df)\n",
    "    \n",
    "    # 인덱스(idx)에 해당하는 데이터 반환 메서드 \n",
    "    def __getitem__(self, idx):\n",
    "        img_id = self.df.iloc[idx, 0]    # 이미지 ID\n",
    "        img_path = self.img_dir + img_id # 이미지 파일 경로 \n",
    "        image = cv2.imread(img_path)     # 이미지 파일 읽기 \n",
    "        image = cv2.cvtColor(image, cv2.COLOR_BGR2RGB) # 이미지 색상 보정\n",
    "        label = self.df.iloc[idx, 1]     # 이미지 레이블(타깃값)\n",
    "\n",
    "        if self.transform is not None:\n",
    "            image = self.transform(image) # 변환기가 있다면 이미지 변환\n",
    "        return image, label"
   ]
  },
  {
   "cell_type": "markdown",
   "id": "ef24a53e",
   "metadata": {
    "papermill": {
     "duration": 0.025417,
     "end_time": "2022-03-06T06:11:09.915762",
     "exception": false,
     "start_time": "2022-03-06T06:11:09.890345",
     "status": "completed"
    },
    "tags": []
   },
   "source": [
    "### 데이터셋 생성"
   ]
  },
  {
   "cell_type": "code",
   "execution_count": 9,
   "id": "ca12b197",
   "metadata": {
    "execution": {
     "iopub.execute_input": "2022-03-06T06:11:09.969164Z",
     "iopub.status.busy": "2022-03-06T06:11:09.968451Z",
     "iopub.status.idle": "2022-03-06T06:11:10.107864Z",
     "shell.execute_reply": "2022-03-06T06:11:10.107407Z"
    },
    "papermill": {
     "duration": 0.167406,
     "end_time": "2022-03-06T06:11:10.108013",
     "exception": false,
     "start_time": "2022-03-06T06:11:09.940607",
     "status": "completed"
    },
    "tags": []
   },
   "outputs": [],
   "source": [
    "from torchvision import transforms # 이미지 변환을 위한 모듈\n",
    "\n",
    "transform = transforms.ToTensor()"
   ]
  },
  {
   "cell_type": "code",
   "execution_count": 10,
   "id": "6c35cc15",
   "metadata": {
    "execution": {
     "iopub.execute_input": "2022-03-06T06:11:10.161815Z",
     "iopub.status.busy": "2022-03-06T06:11:10.160921Z",
     "iopub.status.idle": "2022-03-06T06:11:10.165746Z",
     "shell.execute_reply": "2022-03-06T06:11:10.165319Z"
    },
    "papermill": {
     "duration": 0.032267,
     "end_time": "2022-03-06T06:11:10.165864",
     "exception": false,
     "start_time": "2022-03-06T06:11:10.133597",
     "status": "completed"
    },
    "tags": []
   },
   "outputs": [],
   "source": [
    "dataset_train = ImageDataset(df=train, img_dir='train/', transform=transform)\n",
    "dataset_valid = ImageDataset(df=valid, img_dir='train/', transform=transform)"
   ]
  },
  {
   "cell_type": "markdown",
   "id": "667620b8",
   "metadata": {
    "papermill": {
     "duration": 0.024286,
     "end_time": "2022-03-06T06:11:10.214602",
     "exception": false,
     "start_time": "2022-03-06T06:11:10.190316",
     "status": "completed"
    },
    "tags": []
   },
   "source": [
    "### 데이터 로더 생성"
   ]
  },
  {
   "cell_type": "code",
   "execution_count": 11,
   "id": "99695fca",
   "metadata": {
    "_uuid": "c247391c28497ad35c72f5218398ea71f2d0d5ff",
    "execution": {
     "iopub.execute_input": "2022-03-06T06:11:10.266408Z",
     "iopub.status.busy": "2022-03-06T06:11:10.265557Z",
     "iopub.status.idle": "2022-03-06T06:11:10.270789Z",
     "shell.execute_reply": "2022-03-06T06:11:10.270287Z"
    },
    "papermill": {
     "duration": 0.031954,
     "end_time": "2022-03-06T06:11:10.270891",
     "exception": false,
     "start_time": "2022-03-06T06:11:10.238937",
     "status": "completed"
    },
    "tags": []
   },
   "outputs": [],
   "source": [
    "from torch.utils.data import DataLoader # 데이터 로더 클래스\n",
    "\n",
    "loader_train = DataLoader(dataset=dataset_train, batch_size=32, shuffle=True)\n",
    "loader_valid = DataLoader(dataset=dataset_valid, batch_size=32, shuffle=False)"
   ]
  },
  {
   "cell_type": "markdown",
   "id": "6e2c3639",
   "metadata": {
    "papermill": {
     "duration": 0.023799,
     "end_time": "2022-03-06T06:11:10.319382",
     "exception": false,
     "start_time": "2022-03-06T06:11:10.295583",
     "status": "completed"
    },
    "tags": []
   },
   "source": [
    "## 11.3.3 모델 생성"
   ]
  },
  {
   "cell_type": "code",
   "execution_count": 12,
   "id": "c556a2db",
   "metadata": {
    "_uuid": "0a2d5600bc2eb915ec0bdf5b52ba11e25096f7d0",
    "execution": {
     "iopub.execute_input": "2022-03-06T06:11:10.370934Z",
     "iopub.status.busy": "2022-03-06T06:11:10.370052Z",
     "iopub.status.idle": "2022-03-06T06:11:10.379004Z",
     "shell.execute_reply": "2022-03-06T06:11:10.378563Z"
    },
    "papermill": {
     "duration": 0.035453,
     "end_time": "2022-03-06T06:11:10.379109",
     "exception": false,
     "start_time": "2022-03-06T06:11:10.343656",
     "status": "completed"
    },
    "tags": []
   },
   "outputs": [],
   "source": [
    "import torch.nn as nn # 신경망 모듈\n",
    "import torch.nn.functional as F # 신경망 모듈에서 자주 사용되는 함수\n",
    "\n",
    "class Model(nn.Module):\n",
    "    # 신경망 계층 정의 \n",
    "    def __init__(self):\n",
    "        super().__init__() # 상속받은 nn.Module의 __init__() 메서드 호출\n",
    "        \n",
    "        # 첫 번째 합성곱 계층 \n",
    "        self.conv1 = nn.Conv2d(in_channels=3, out_channels=32, \n",
    "                               kernel_size=3, padding=2) \n",
    "        # 두 번째 합성곱 계층 \n",
    "        self.conv2 = nn.Conv2d(in_channels=32, out_channels=64, \n",
    "                               kernel_size=3, padding=2) \n",
    "        # 최대 풀링 계층 \n",
    "        self.max_pool = nn.MaxPool2d(kernel_size=2) \n",
    "        # 평균 풀링 계층 \n",
    "        self.avg_pool = nn.AvgPool2d(kernel_size=2) \n",
    "        # 전결합 계층 \n",
    "        self.fc = nn.Linear(in_features=64 * 4 * 4, out_features=2)\n",
    "        \n",
    "    # 순전파 출력 정의 \n",
    "    def forward(self, x):\n",
    "        x = self.max_pool(F.relu(self.conv1(x)))\n",
    "        x = self.max_pool(F.relu(self.conv2(x)))\n",
    "        x = self.avg_pool(x)\n",
    "        x = x.view(-1, 64 * 4 * 4) # 평탄화\n",
    "        x = self.fc(x)\n",
    "        return x"
   ]
  },
  {
   "cell_type": "code",
   "execution_count": 13,
   "id": "cc451449",
   "metadata": {
    "execution": {
     "iopub.execute_input": "2022-03-06T06:11:10.434114Z",
     "iopub.status.busy": "2022-03-06T06:11:10.433340Z",
     "iopub.status.idle": "2022-03-06T06:11:10.435341Z",
     "shell.execute_reply": "2022-03-06T06:11:10.435733Z"
    },
    "papermill": {
     "duration": 0.031435,
     "end_time": "2022-03-06T06:11:10.435863",
     "exception": false,
     "start_time": "2022-03-06T06:11:10.404428",
     "status": "completed"
    },
    "tags": []
   },
   "outputs": [],
   "source": [
    "# class Model(nn.Module):\n",
    "#     def __init__(self):\n",
    "#         super().__init__() \n",
    "#         # 첫 번째 합성곱, 최대 풀링 계층\n",
    "#         self.layer1 = nn.Sequential(nn.Conv2d(in_channels=3, \n",
    "#                                               out_channels=32, \n",
    "#                                               kernel_size=3, \n",
    "#                                               padding=2),\n",
    "#                                     nn.ReLU(),\n",
    "#                                     nn.MaxPool2d(kernel_size=2))\n",
    "#         # 두 번째 합성곱, 최대 풀링 계층\n",
    "#         self.layer2 = nn.Sequential(nn.Conv2d(in_channels=32, \n",
    "#                                               out_channels=64, \n",
    "#                                               kernel_size=3, \n",
    "#                                               padding=2),\n",
    "#                                     nn.ReLU(),\n",
    "#                                     nn.MaxPool2d(kernel_size=2))\n",
    "#         # 평균 풀링 계층\n",
    "#         self.avg_pool = nn.AvgPool2d(kernel_size=2) \n",
    "#         # 전결합 계층\n",
    "#         self.fc = nn.Linear(in_features=64 * 4 * 4, out_features=2)\n",
    "        \n",
    "#     # 순전파 출력 정의\n",
    "#     def forward(self, x):\n",
    "#         x = self.layer1(x)\n",
    "#         x = self.layer2(x)\n",
    "#         x = self.avg_pool(x)\n",
    "#         x = x.view(-1, 64 * 4 * 4) # 평탄화\n",
    "#         x = self.fc(x)\n",
    "#         return x"
   ]
  },
  {
   "cell_type": "code",
   "execution_count": 14,
   "id": "097def7b",
   "metadata": {
    "_cell_guid": "79c7e3d0-c299-4dcb-8224-4455121ee9b0",
    "_uuid": "d629ff2d2480ee46fbb7e2d37f6b5fab8052498a",
    "execution": {
     "iopub.execute_input": "2022-03-06T06:11:10.488512Z",
     "iopub.status.busy": "2022-03-06T06:11:10.487972Z",
     "iopub.status.idle": "2022-03-06T06:11:15.719623Z",
     "shell.execute_reply": "2022-03-06T06:11:15.720084Z"
    },
    "papermill": {
     "duration": 5.260092,
     "end_time": "2022-03-06T06:11:15.720244",
     "exception": false,
     "start_time": "2022-03-06T06:11:10.460152",
     "status": "completed"
    },
    "tags": []
   },
   "outputs": [
    {
     "data": {
      "text/plain": [
       "Model(\n",
       "  (conv1): Conv2d(3, 32, kernel_size=(3, 3), stride=(1, 1), padding=(2, 2))\n",
       "  (conv2): Conv2d(32, 64, kernel_size=(3, 3), stride=(1, 1), padding=(2, 2))\n",
       "  (max_pool): MaxPool2d(kernel_size=2, stride=2, padding=0, dilation=1, ceil_mode=False)\n",
       "  (avg_pool): AvgPool2d(kernel_size=2, stride=2, padding=0)\n",
       "  (fc): Linear(in_features=1024, out_features=2, bias=True)\n",
       ")"
      ]
     },
     "execution_count": 14,
     "metadata": {},
     "output_type": "execute_result"
    }
   ],
   "source": [
    "model = Model().to(device)\n",
    "\n",
    "model"
   ]
  },
  {
   "cell_type": "markdown",
   "id": "94df086a",
   "metadata": {
    "papermill": {
     "duration": 0.024911,
     "end_time": "2022-03-06T06:11:15.770338",
     "exception": false,
     "start_time": "2022-03-06T06:11:15.745427",
     "status": "completed"
    },
    "tags": []
   },
   "source": [
    "## 11.3.4 모델 훈련"
   ]
  },
  {
   "cell_type": "markdown",
   "id": "a70f098c",
   "metadata": {
    "papermill": {
     "duration": 0.023559,
     "end_time": "2022-03-06T06:11:15.819042",
     "exception": false,
     "start_time": "2022-03-06T06:11:15.795483",
     "status": "completed"
    },
    "tags": []
   },
   "source": [
    "### 손실 함수 설정"
   ]
  },
  {
   "cell_type": "code",
   "execution_count": 15,
   "id": "c1c06f1b",
   "metadata": {
    "execution": {
     "iopub.execute_input": "2022-03-06T06:11:15.871996Z",
     "iopub.status.busy": "2022-03-06T06:11:15.870616Z",
     "iopub.status.idle": "2022-03-06T06:11:15.872835Z",
     "shell.execute_reply": "2022-03-06T06:11:15.873264Z"
    },
    "papermill": {
     "duration": 0.030181,
     "end_time": "2022-03-06T06:11:15.873394",
     "exception": false,
     "start_time": "2022-03-06T06:11:15.843213",
     "status": "completed"
    },
    "tags": []
   },
   "outputs": [],
   "source": [
    "# 손실함수\n",
    "criterion = nn.CrossEntropyLoss()"
   ]
  },
  {
   "cell_type": "markdown",
   "id": "571d1ebc",
   "metadata": {
    "papermill": {
     "duration": 0.024304,
     "end_time": "2022-03-06T06:11:15.921697",
     "exception": false,
     "start_time": "2022-03-06T06:11:15.897393",
     "status": "completed"
    },
    "tags": []
   },
   "source": [
    "### 옵티마이저 설정"
   ]
  },
  {
   "cell_type": "code",
   "execution_count": 16,
   "id": "3a5016b7",
   "metadata": {
    "_uuid": "fceb2929d8750acb2de745cd9ff3d2d458820df8",
    "execution": {
     "iopub.execute_input": "2022-03-06T06:11:15.976510Z",
     "iopub.status.busy": "2022-03-06T06:11:15.975746Z",
     "iopub.status.idle": "2022-03-06T06:11:15.978260Z",
     "shell.execute_reply": "2022-03-06T06:11:15.977789Z"
    },
    "papermill": {
     "duration": 0.031744,
     "end_time": "2022-03-06T06:11:15.978376",
     "exception": false,
     "start_time": "2022-03-06T06:11:15.946632",
     "status": "completed"
    },
    "tags": []
   },
   "outputs": [],
   "source": [
    "# 옵티마이저\n",
    "optimizer = torch.optim.SGD(model.parameters(), lr=0.01)"
   ]
  },
  {
   "cell_type": "markdown",
   "id": "ecd2b116",
   "metadata": {
    "papermill": {
     "duration": 0.025187,
     "end_time": "2022-03-06T06:11:16.029225",
     "exception": false,
     "start_time": "2022-03-06T06:11:16.004038",
     "status": "completed"
    },
    "tags": []
   },
   "source": [
    "### 모델 훈련"
   ]
  },
  {
   "cell_type": "code",
   "execution_count": 17,
   "id": "96f58d16",
   "metadata": {
    "execution": {
     "iopub.execute_input": "2022-03-06T06:11:16.085342Z",
     "iopub.status.busy": "2022-03-06T06:11:16.084665Z",
     "iopub.status.idle": "2022-03-06T06:11:16.087331Z",
     "shell.execute_reply": "2022-03-06T06:11:16.087834Z"
    },
    "papermill": {
     "duration": 0.033377,
     "end_time": "2022-03-06T06:11:16.087952",
     "exception": false,
     "start_time": "2022-03-06T06:11:16.054575",
     "status": "completed"
    },
    "tags": []
   },
   "outputs": [
    {
     "data": {
      "text/plain": [
       "493"
      ]
     },
     "execution_count": 17,
     "metadata": {},
     "output_type": "execute_result"
    }
   ],
   "source": [
    "import math\n",
    "\n",
    "math.ceil(len(train) / 32)"
   ]
  },
  {
   "cell_type": "code",
   "execution_count": 18,
   "id": "a5cc7fba",
   "metadata": {
    "execution": {
     "iopub.execute_input": "2022-03-06T06:11:16.143772Z",
     "iopub.status.busy": "2022-03-06T06:11:16.143152Z",
     "iopub.status.idle": "2022-03-06T06:11:16.145756Z",
     "shell.execute_reply": "2022-03-06T06:11:16.146186Z"
    },
    "papermill": {
     "duration": 0.03269,
     "end_time": "2022-03-06T06:11:16.146313",
     "exception": false,
     "start_time": "2022-03-06T06:11:16.113623",
     "status": "completed"
    },
    "tags": []
   },
   "outputs": [
    {
     "data": {
      "text/plain": [
       "493"
      ]
     },
     "execution_count": 18,
     "metadata": {},
     "output_type": "execute_result"
    }
   ],
   "source": [
    "len(loader_train)"
   ]
  },
  {
   "cell_type": "code",
   "execution_count": 19,
   "id": "1aba4891",
   "metadata": {
    "_uuid": "2c37417ae6b62ab4551bc8a888916ca1e591d284",
    "execution": {
     "iopub.execute_input": "2022-03-06T06:11:16.205860Z",
     "iopub.status.busy": "2022-03-06T06:11:16.205279Z",
     "iopub.status.idle": "2022-03-06T06:12:14.442480Z",
     "shell.execute_reply": "2022-03-06T06:12:14.443058Z"
    },
    "papermill": {
     "duration": 58.271374,
     "end_time": "2022-03-06T06:12:14.443279",
     "exception": false,
     "start_time": "2022-03-06T06:11:16.171905",
     "status": "completed"
    },
    "tags": []
   },
   "outputs": [
    {
     "name": "stdout",
     "output_type": "stream",
     "text": [
      "에폭 [1/10] - 손실값: 0.5240\n",
      "에폭 [2/10] - 손실값: 0.3407\n",
      "에폭 [3/10] - 손실값: 0.2444\n",
      "에폭 [4/10] - 손실값: 0.1975\n",
      "에폭 [5/10] - 손실값: 0.1747\n",
      "에폭 [6/10] - 손실값: 0.1637\n",
      "에폭 [7/10] - 손실값: 0.1515\n",
      "에폭 [8/10] - 손실값: 0.1430\n",
      "에폭 [9/10] - 손실값: 0.1353\n",
      "에폭 [10/10] - 손실값: 0.1287\n"
     ]
    }
   ],
   "source": [
    "epochs = 10 # 총 에폭\n",
    "# 총 에폭만큼 반복\n",
    "for epoch in range(epochs):\n",
    "    epoch_loss = 0 # 에폭별 손실값 초기화\n",
    "    \n",
    "    # '반복 횟수'만큼 반복 \n",
    "    for images, labels in loader_train:\n",
    "        # 이미지, 레이블 데이터 미니배치를 장비에 할당 \n",
    "        images = images.to(device)\n",
    "        labels = labels.to(device)\n",
    "        \n",
    "        # 옵티마이저 내 기울기 초기화\n",
    "        optimizer.zero_grad()\n",
    "        # 순전파 : 이미지 데이터를 신경망 모델의 입력값으로 사용해 출력값 계산\n",
    "        outputs = model(images)\n",
    "        # 손실 함수를 활용해 outputs와 labels의 손실값 계산\n",
    "        loss = criterion(outputs, labels)\n",
    "        # 현재 배치에서의 손실 추가\n",
    "        epoch_loss += loss.item() \n",
    "        # 역전파 수행\n",
    "        loss.backward()\n",
    "        # 가중치 갱신\n",
    "        optimizer.step()\n",
    "        \n",
    "    # 훈련 데이터 손실값 출력\n",
    "    print(f'에폭 [{epoch+1}/{epochs}] - 손실값: {epoch_loss/len(loader_train):.4f}')"
   ]
  },
  {
   "cell_type": "markdown",
   "id": "f9faf0d7",
   "metadata": {
    "papermill": {
     "duration": 0.027565,
     "end_time": "2022-03-06T06:12:14.499029",
     "exception": false,
     "start_time": "2022-03-06T06:12:14.471464",
     "status": "completed"
    },
    "tags": []
   },
   "source": [
    "## 11.3.5 성능 검증"
   ]
  },
  {
   "cell_type": "code",
   "execution_count": 20,
   "id": "6dfe9692",
   "metadata": {
    "execution": {
     "iopub.execute_input": "2022-03-06T06:12:14.557863Z",
     "iopub.status.busy": "2022-03-06T06:12:14.556277Z",
     "iopub.status.idle": "2022-03-06T06:12:14.558505Z",
     "shell.execute_reply": "2022-03-06T06:12:14.558895Z"
    },
    "papermill": {
     "duration": 0.033237,
     "end_time": "2022-03-06T06:12:14.559047",
     "exception": false,
     "start_time": "2022-03-06T06:12:14.525810",
     "status": "completed"
    },
    "tags": []
   },
   "outputs": [],
   "source": [
    "from sklearn.metrics import roc_auc_score # ROC AUC 점수 계산 함수 임포트\n",
    "\n",
    "# 실제값과 예측 확률값을 담을 리스트 초기화\n",
    "true_list = []\n",
    "preds_list = []"
   ]
  },
  {
   "cell_type": "code",
   "execution_count": 21,
   "id": "dbd8da34",
   "metadata": {
    "execution": {
     "iopub.execute_input": "2022-03-06T06:12:14.620800Z",
     "iopub.status.busy": "2022-03-06T06:12:14.619791Z",
     "iopub.status.idle": "2022-03-06T06:12:15.170417Z",
     "shell.execute_reply": "2022-03-06T06:12:15.170820Z"
    },
    "papermill": {
     "duration": 0.58432,
     "end_time": "2022-03-06T06:12:15.170978",
     "exception": false,
     "start_time": "2022-03-06T06:12:14.586658",
     "status": "completed"
    },
    "tags": []
   },
   "outputs": [
    {
     "name": "stdout",
     "output_type": "stream",
     "text": [
      "검증 데이터 ROC AUC : 0.9900\n"
     ]
    }
   ],
   "source": [
    "model.eval() # 모델을 평가 상태로 설정 \n",
    "\n",
    "with torch.no_grad(): # 기울기 계산 비활성화\n",
    "    for images, labels in loader_valid:\n",
    "        # 이미지, 레이블 데이터 미니배치를 장비에 할당 \n",
    "        images = images.to(device)\n",
    "        labels = labels.to(device) \n",
    "        \n",
    "        # 순전파 : 이미지 데이터를 신경망 모델의 입력값으로 사용해 출력값 계산\n",
    "        outputs = model(images)\n",
    "        preds = torch.softmax(outputs.cpu(), dim=1)[:, 1] # 예측 확률  \n",
    "        true = labels.cpu() # 실제값 \n",
    "        # 예측 확률과 실제값을 리스트에 추가\n",
    "        preds_list.extend(preds)\n",
    "        true_list.extend(true)\n",
    "        \n",
    "# 검증 데이터 ROC AUC 점수 계산\n",
    "print(f'검증 데이터 ROC AUC : {roc_auc_score(true_list, preds_list):.4f}')"
   ]
  },
  {
   "cell_type": "markdown",
   "id": "905cdacc",
   "metadata": {
    "papermill": {
     "duration": 0.027285,
     "end_time": "2022-03-06T06:12:15.225910",
     "exception": false,
     "start_time": "2022-03-06T06:12:15.198625",
     "status": "completed"
    },
    "tags": []
   },
   "source": [
    "## 11.3.6 예측 및 결과 제출"
   ]
  },
  {
   "cell_type": "code",
   "execution_count": 22,
   "id": "d33b7940",
   "metadata": {
    "_uuid": "870413a60281e0c4115fbc7cf192508e15a9e269",
    "execution": {
     "iopub.execute_input": "2022-03-06T06:12:15.285464Z",
     "iopub.status.busy": "2022-03-06T06:12:15.284766Z",
     "iopub.status.idle": "2022-03-06T06:12:15.287052Z",
     "shell.execute_reply": "2022-03-06T06:12:15.287470Z"
    },
    "papermill": {
     "duration": 0.034013,
     "end_time": "2022-03-06T06:12:15.287586",
     "exception": false,
     "start_time": "2022-03-06T06:12:15.253573",
     "status": "completed"
    },
    "tags": []
   },
   "outputs": [],
   "source": [
    "dataset_test = ImageDataset(df=submission, img_dir='test/', transform=transform)\n",
    "loader_test = DataLoader(dataset=dataset_test, batch_size=32, shuffle=False)"
   ]
  },
  {
   "cell_type": "markdown",
   "id": "b8b5fd76",
   "metadata": {
    "papermill": {
     "duration": 0.027509,
     "end_time": "2022-03-06T06:12:15.342638",
     "exception": false,
     "start_time": "2022-03-06T06:12:15.315129",
     "status": "completed"
    },
    "tags": []
   },
   "source": [
    "### 예측"
   ]
  },
  {
   "cell_type": "code",
   "execution_count": 23,
   "id": "b8a97bfb",
   "metadata": {
    "execution": {
     "iopub.execute_input": "2022-03-06T06:12:15.404157Z",
     "iopub.status.busy": "2022-03-06T06:12:15.403313Z",
     "iopub.status.idle": "2022-03-06T06:12:16.587114Z",
     "shell.execute_reply": "2022-03-06T06:12:16.586582Z"
    },
    "papermill": {
     "duration": 1.216924,
     "end_time": "2022-03-06T06:12:16.587252",
     "exception": false,
     "start_time": "2022-03-06T06:12:15.370328",
     "status": "completed"
    },
    "tags": []
   },
   "outputs": [],
   "source": [
    "model.eval() # 모델을 평가 상태로 설정\n",
    "\n",
    "preds = [] # 타깃 예측값 저장용 리스트 초기화\n",
    "\n",
    "with torch.no_grad(): # 기울기 계산 비활성화\n",
    "    for images, _ in loader_test:\n",
    "        # 이미지 데이터 미니배치를 장비에 할당\n",
    "        images = images.to(device)\n",
    "        \n",
    "        # 순전파 : 이미지 데이터를 신경망 모델의 입력값으로 사용해 출력값 계산\n",
    "        outputs = model(images)\n",
    "        # 타깃값이 1일 확률(예측값)\n",
    "        preds_part = torch.softmax(outputs.cpu(), dim=1)[:, 1].tolist()\n",
    "        # preds에 preds_part 이어붙이기\n",
    "        preds.extend(preds_part)"
   ]
  },
  {
   "cell_type": "markdown",
   "id": "0cf407e6",
   "metadata": {
    "papermill": {
     "duration": 0.030839,
     "end_time": "2022-03-06T06:12:16.648782",
     "exception": false,
     "start_time": "2022-03-06T06:12:16.617943",
     "status": "completed"
    },
    "tags": []
   },
   "source": [
    "### 결과 제출"
   ]
  },
  {
   "cell_type": "code",
   "execution_count": 24,
   "id": "32ce3a40",
   "metadata": {
    "execution": {
     "iopub.execute_input": "2022-03-06T06:12:16.718248Z",
     "iopub.status.busy": "2022-03-06T06:12:16.717325Z",
     "iopub.status.idle": "2022-03-06T06:12:16.740769Z",
     "shell.execute_reply": "2022-03-06T06:12:16.740337Z"
    },
    "papermill": {
     "duration": 0.061486,
     "end_time": "2022-03-06T06:12:16.740886",
     "exception": false,
     "start_time": "2022-03-06T06:12:16.679400",
     "status": "completed"
    },
    "tags": []
   },
   "outputs": [],
   "source": [
    "submission['has_cactus'] = preds\n",
    "submission.to_csv('submission.csv', index=False)"
   ]
  },
  {
   "cell_type": "code",
   "execution_count": 25,
   "id": "36493730",
   "metadata": {
    "execution": {
     "iopub.execute_input": "2022-03-06T06:12:16.806654Z",
     "iopub.status.busy": "2022-03-06T06:12:16.805851Z",
     "iopub.status.idle": "2022-03-06T06:12:17.402329Z",
     "shell.execute_reply": "2022-03-06T06:12:17.400593Z"
    },
    "papermill": {
     "duration": 0.630898,
     "end_time": "2022-03-06T06:12:17.402500",
     "exception": false,
     "start_time": "2022-03-06T06:12:16.771602",
     "status": "completed"
    },
    "tags": []
   },
   "outputs": [],
   "source": [
    "import shutil\n",
    "\n",
    "shutil.rmtree('./train')\n",
    "shutil.rmtree('./test')"
   ]
  }
 ],
 "metadata": {
  "kernelspec": {
   "display_name": "Python 3",
   "language": "python",
   "name": "python3"
  },
  "language_info": {
   "codemirror_mode": {
    "name": "ipython",
    "version": 3
   },
   "file_extension": ".py",
   "mimetype": "text/x-python",
   "name": "python",
   "nbconvert_exporter": "python",
   "pygments_lexer": "ipython3",
   "version": "3.7.10"
  },
  "papermill": {
   "default_parameters": {},
   "duration": 84.677415,
   "end_time": "2022-03-06T06:12:18.809115",
   "environment_variables": {},
   "exception": null,
   "input_path": "__notebook__.ipynb",
   "output_path": "__notebook__.ipynb",
   "parameters": {},
   "start_time": "2022-03-06T06:10:54.131700",
   "version": "2.3.3"
  }
 },
 "nbformat": 4,
 "nbformat_minor": 5
}
