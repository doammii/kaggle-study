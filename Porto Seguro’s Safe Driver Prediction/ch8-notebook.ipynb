{
 "cells": [
  {
   "cell_type": "markdown",
   "id": "08164cae",
   "metadata": {
    "papermill": {
     "duration": 0.004054,
     "end_time": "2022-02-16T07:11:00.240799",
     "exception": false,
     "start_time": "2022-02-16T07:11:00.236745",
     "status": "completed"
    },
    "tags": []
   },
   "source": [
    "# 8장 안전 운전자 예측 경진대회 환경 세팅된 노트북 양식"
   ]
  },
  {
   "cell_type": "code",
   "execution_count": null,
   "id": "2cbe0aab",
   "metadata": {
    "papermill": {
     "duration": 0.001848,
     "end_time": "2022-02-16T07:11:00.245077",
     "exception": false,
     "start_time": "2022-02-16T07:11:00.243229",
     "status": "completed"
    },
    "tags": []
   },
   "outputs": [],
   "source": []
  }
 ],
 "metadata": {
  "kernelspec": {
   "display_name": "Python 3",
   "language": "python",
   "name": "python3"
  },
  "language_info": {
   "codemirror_mode": {
    "name": "ipython",
    "version": 3
   },
   "file_extension": ".py",
   "mimetype": "text/x-python",
   "name": "python",
   "nbconvert_exporter": "python",
   "pygments_lexer": "ipython3",
   "version": "3.7.10"
  },
  "papermill": {
   "default_parameters": {},
   "duration": 8.748011,
   "end_time": "2022-02-16T07:11:01.683725",
   "environment_variables": {},
   "exception": null,
   "input_path": "__notebook__.ipynb",
   "output_path": "__notebook__.ipynb",
   "parameters": {},
   "start_time": "2022-02-16T07:10:52.935714",
   "version": "2.3.3"
  }
 },
 "nbformat": 4,
 "nbformat_minor": 5
}
