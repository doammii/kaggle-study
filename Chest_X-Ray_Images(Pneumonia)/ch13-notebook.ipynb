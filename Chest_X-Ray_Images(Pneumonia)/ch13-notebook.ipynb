{
 "cells": [
  {
   "cell_type": "markdown",
   "id": "97cc6b40",
   "metadata": {
    "id": "LgPw8VXFaXAz",
    "papermill": {
     "duration": 0.003537,
     "end_time": "2022-02-16T07:30:37.077249",
     "exception": false,
     "start_time": "2022-02-16T07:30:37.073712",
     "status": "completed"
    },
    "tags": []
   },
   "source": [
    "# 13장 흉부 엑스선 기반 폐렴 진단 환경 세팅된 노트북 양식"
   ]
  },
  {
   "cell_type": "code",
   "execution_count": null,
   "id": "d04a2eb8",
   "metadata": {
    "papermill": {
     "duration": 0.002311,
     "end_time": "2022-02-16T07:30:37.082693",
     "exception": false,
     "start_time": "2022-02-16T07:30:37.080382",
     "status": "completed"
    },
    "tags": []
   },
   "outputs": [],
   "source": []
  }
 ],
 "metadata": {
  "kernelspec": {
   "display_name": "Python 3",
   "language": "python",
   "name": "python3"
  },
  "language_info": {
   "codemirror_mode": {
    "name": "ipython",
    "version": 3
   },
   "file_extension": ".py",
   "mimetype": "text/x-python",
   "name": "python",
   "nbconvert_exporter": "python",
   "pygments_lexer": "ipython3",
   "version": "3.7.10"
  },
  "papermill": {
   "default_parameters": {},
   "duration": 9.802804,
   "end_time": "2022-02-16T07:30:38.498946",
   "environment_variables": {},
   "exception": null,
   "input_path": "__notebook__.ipynb",
   "output_path": "__notebook__.ipynb",
   "parameters": {},
   "start_time": "2022-02-16T07:30:28.696142",
   "version": "2.3.3"
  }
 },
 "nbformat": 4,
 "nbformat_minor": 5
}
