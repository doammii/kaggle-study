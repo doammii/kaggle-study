{
 "cells": [
  {
   "cell_type": "markdown",
   "id": "6abe282c",
   "metadata": {
    "papermill": {
     "duration": 0.015683,
     "end_time": "2022-03-06T09:09:33.278349",
     "exception": false,
     "start_time": "2022-03-06T09:09:33.262666",
     "status": "completed"
    },
    "tags": []
   },
   "source": [
    "# 11.4 항공 사진 내 선인장 식별 경진대회 성능 개선\n",
    "- [항공 사진 내 선인장 식별 경진대회 링크](https://www.kaggle.com/c/aerial-cactus-identification)\n",
    "- [모델링 코드 참고 링크](https://www.kaggle.com/bonhart/simple-cnn-on-pytorch-for-beginers)\n"
   ]
  },
  {
   "cell_type": "code",
   "execution_count": 1,
   "id": "46779b04",
   "metadata": {
    "execution": {
     "iopub.execute_input": "2022-03-06T09:09:33.390016Z",
     "iopub.status.busy": "2022-03-06T09:09:33.389352Z",
     "iopub.status.idle": "2022-03-06T09:09:37.759691Z",
     "shell.execute_reply": "2022-03-06T09:09:37.759064Z"
    },
    "papermill": {
     "duration": 4.465166,
     "end_time": "2022-03-06T09:09:37.759843",
     "exception": false,
     "start_time": "2022-03-06T09:09:33.294677",
     "status": "completed"
    },
    "tags": []
   },
   "outputs": [],
   "source": [
    "import torch # 파이토치 \n",
    "import random\n",
    "import numpy as np\n",
    "import os\n",
    "\n",
    "# 시드값 고정\n",
    "seed = 50\n",
    "os.environ['PYTHONHASHSEED'] = str(seed)\n",
    "random.seed(seed)\n",
    "np.random.seed(seed)\n",
    "torch.manual_seed(seed)\n",
    "torch.cuda.manual_seed(seed)\n",
    "torch.cuda.manual_seed_all(seed)\n",
    "torch.backends.cudnn.deterministic = True\n",
    "torch.backends.cudnn.benchmark = False\n",
    "torch.backends.cudnn.enabled = False"
   ]
  },
  {
   "cell_type": "code",
   "execution_count": 2,
   "id": "484e592b",
   "metadata": {
    "execution": {
     "iopub.execute_input": "2022-03-06T09:09:37.842778Z",
     "iopub.status.busy": "2022-03-06T09:09:37.841957Z",
     "iopub.status.idle": "2022-03-06T09:09:37.844701Z",
     "shell.execute_reply": "2022-03-06T09:09:37.844259Z"
    },
    "papermill": {
     "duration": 0.069975,
     "end_time": "2022-03-06T09:09:37.844826",
     "exception": false,
     "start_time": "2022-03-06T09:09:37.774851",
     "status": "completed"
    },
    "tags": []
   },
   "outputs": [],
   "source": [
    "device = torch.device('cuda' if torch.cuda.is_available() else 'cpu')"
   ]
  },
  {
   "cell_type": "markdown",
   "id": "5fad5f56",
   "metadata": {
    "papermill": {
     "duration": 0.014569,
     "end_time": "2022-03-06T09:09:37.874319",
     "exception": false,
     "start_time": "2022-03-06T09:09:37.859750",
     "status": "completed"
    },
    "tags": []
   },
   "source": [
    "## 11.4.1 데이터 준비"
   ]
  },
  {
   "cell_type": "code",
   "execution_count": 3,
   "id": "59a6f0a9",
   "metadata": {
    "execution": {
     "iopub.execute_input": "2022-03-06T09:09:37.908327Z",
     "iopub.status.busy": "2022-03-06T09:09:37.907768Z",
     "iopub.status.idle": "2022-03-06T09:09:37.954997Z",
     "shell.execute_reply": "2022-03-06T09:09:37.954577Z"
    },
    "papermill": {
     "duration": 0.066208,
     "end_time": "2022-03-06T09:09:37.955108",
     "exception": false,
     "start_time": "2022-03-06T09:09:37.888900",
     "status": "completed"
    },
    "tags": []
   },
   "outputs": [],
   "source": [
    "import pandas as pd\n",
    "\n",
    "# 데이터 경로\n",
    "data_path = '/kaggle/input/aerial-cactus-identification/'\n",
    "\n",
    "labels = pd.read_csv(data_path + 'train.csv')\n",
    "submission = pd.read_csv(data_path + 'sample_submission.csv')"
   ]
  },
  {
   "cell_type": "code",
   "execution_count": 4,
   "id": "9bc33b79",
   "metadata": {
    "execution": {
     "iopub.execute_input": "2022-03-06T09:09:37.990722Z",
     "iopub.status.busy": "2022-03-06T09:09:37.990105Z",
     "iopub.status.idle": "2022-03-06T09:09:40.692588Z",
     "shell.execute_reply": "2022-03-06T09:09:40.692101Z"
    },
    "papermill": {
     "duration": 2.721396,
     "end_time": "2022-03-06T09:09:40.692723",
     "exception": false,
     "start_time": "2022-03-06T09:09:37.971327",
     "status": "completed"
    },
    "tags": []
   },
   "outputs": [],
   "source": [
    "from zipfile import ZipFile\n",
    "\n",
    "# 훈련 이미지 데이터 압축 풀기\n",
    "with ZipFile(data_path + 'train.zip') as zipper:\n",
    "    zipper.extractall()\n",
    "    \n",
    "# 테스트 이미지 데이터 압축 풀기\n",
    "with ZipFile(data_path + 'test.zip') as zipper:\n",
    "    zipper.extractall()"
   ]
  },
  {
   "cell_type": "code",
   "execution_count": 5,
   "id": "2a6d77b6",
   "metadata": {
    "_uuid": "c07eab67e573c7de05e11065b5bafc1bbff284fb",
    "execution": {
     "iopub.execute_input": "2022-03-06T09:09:40.727755Z",
     "iopub.status.busy": "2022-03-06T09:09:40.727017Z",
     "iopub.status.idle": "2022-03-06T09:09:41.559475Z",
     "shell.execute_reply": "2022-03-06T09:09:41.558433Z"
    },
    "papermill": {
     "duration": 0.851743,
     "end_time": "2022-03-06T09:09:41.559631",
     "exception": false,
     "start_time": "2022-03-06T09:09:40.707888",
     "status": "completed"
    },
    "tags": []
   },
   "outputs": [],
   "source": [
    "from sklearn.model_selection import train_test_split\n",
    "\n",
    "# 훈련 데이터, 검증 데이터 분리\n",
    "train, valid = train_test_split(labels, \n",
    "                                test_size=0.1,\n",
    "                                stratify=labels['has_cactus'],\n",
    "                                random_state=50)"
   ]
  },
  {
   "cell_type": "code",
   "execution_count": 6,
   "id": "05eaede8",
   "metadata": {
    "_uuid": "1b05af8d59d9d5b092e96f72dfebb19591416de9",
    "execution": {
     "iopub.execute_input": "2022-03-06T09:09:41.597926Z",
     "iopub.status.busy": "2022-03-06T09:09:41.597268Z",
     "iopub.status.idle": "2022-03-06T09:09:41.731668Z",
     "shell.execute_reply": "2022-03-06T09:09:41.731141Z"
    },
    "papermill": {
     "duration": 0.156781,
     "end_time": "2022-03-06T09:09:41.731799",
     "exception": false,
     "start_time": "2022-03-06T09:09:41.575018",
     "status": "completed"
    },
    "tags": []
   },
   "outputs": [],
   "source": [
    "import cv2 # OpenCV 라이브러리\n",
    "from torch.utils.data import Dataset # 데이터 생성을 위한 클래스\n",
    "\n",
    "class ImageDataset(Dataset):\n",
    "    # 초기화 메서드(생성자)\n",
    "    def __init__(self, df, img_dir='./', transform=None):\n",
    "        super().__init__() # 상속받은 Dataset의 생성자 호출\n",
    "        # 전달받은 인수들 저장\n",
    "        self.df = df\n",
    "        self.img_dir = img_dir\n",
    "        self.transform = transform\n",
    "    \n",
    "    # 데이터셋 크기 반환 메서드 \n",
    "    def __len__(self):\n",
    "        return len(self.df)\n",
    "    \n",
    "    # 인덱스(idx)에 해당하는 데이터 반환 메서드 \n",
    "    def __getitem__(self, idx):\n",
    "        img_id = self.df.iloc[idx, 0]    # 이미지 ID\n",
    "        img_path = self.img_dir + img_id # 이미지 파일 경로 \n",
    "        image = cv2.imread(img_path)     # 이미지 파일 읽기 \n",
    "        image = cv2.cvtColor(image, cv2.COLOR_BGR2RGB) # 이미지 색상 보정\n",
    "        label = self.df.iloc[idx, 1]     # 이미지 레이블(타깃값)\n",
    "\n",
    "        if self.transform is not None:\n",
    "            image = self.transform(image) # 변환기가 있다면 이미지 변환\n",
    "        return image, label"
   ]
  },
  {
   "cell_type": "markdown",
   "id": "e4aa8fef",
   "metadata": {
    "papermill": {
     "duration": 0.015283,
     "end_time": "2022-03-06T09:09:41.762384",
     "exception": false,
     "start_time": "2022-03-06T09:09:41.747101",
     "status": "completed"
    },
    "tags": []
   },
   "source": [
    "### 이미지 변환기 정의"
   ]
  },
  {
   "cell_type": "code",
   "execution_count": 7,
   "id": "19fc369d",
   "metadata": {
    "execution": {
     "iopub.execute_input": "2022-03-06T09:09:41.799822Z",
     "iopub.status.busy": "2022-03-06T09:09:41.799021Z",
     "iopub.status.idle": "2022-03-06T09:09:41.945354Z",
     "shell.execute_reply": "2022-03-06T09:09:41.944827Z"
    },
    "papermill": {
     "duration": 0.167797,
     "end_time": "2022-03-06T09:09:41.945507",
     "exception": false,
     "start_time": "2022-03-06T09:09:41.777710",
     "status": "completed"
    },
    "tags": []
   },
   "outputs": [],
   "source": [
    "from torchvision import transforms # 이미지 변환을 위한 모듈\n",
    "\n",
    "# 훈련 데이터용 변환기\n",
    "transform_train = transforms.Compose([transforms.ToTensor(),\n",
    "                                      transforms.Pad(32, padding_mode='symmetric'),\n",
    "                                      transforms.RandomHorizontalFlip(),\n",
    "                                      transforms.RandomVerticalFlip(),\n",
    "                                      transforms.RandomRotation(10),\n",
    "                                      transforms.Normalize((0.485, 0.456, 0.406),\n",
    "                                                           (0.229, 0.224, 0.225))])\n",
    "\n",
    "# 검증 및 테스트 데이터용 변환기\n",
    "transform_test= transforms.Compose([transforms.ToTensor(),\n",
    "                                    transforms.Pad(32, padding_mode='symmetric'),\n",
    "                                    transforms.Normalize((0.485, 0.456, 0.406),\n",
    "                                                         (0.229, 0.224, 0.225))])"
   ]
  },
  {
   "cell_type": "markdown",
   "id": "7d7cae05",
   "metadata": {
    "papermill": {
     "duration": 0.015107,
     "end_time": "2022-03-06T09:09:41.976397",
     "exception": false,
     "start_time": "2022-03-06T09:09:41.961290",
     "status": "completed"
    },
    "tags": []
   },
   "source": [
    "### 데이터셋 및 데이터 로더 생성"
   ]
  },
  {
   "cell_type": "code",
   "execution_count": 8,
   "id": "3049f4bc",
   "metadata": {
    "execution": {
     "iopub.execute_input": "2022-03-06T09:09:42.012745Z",
     "iopub.status.busy": "2022-03-06T09:09:42.011978Z",
     "iopub.status.idle": "2022-03-06T09:09:42.014412Z",
     "shell.execute_reply": "2022-03-06T09:09:42.014016Z"
    },
    "papermill": {
     "duration": 0.022358,
     "end_time": "2022-03-06T09:09:42.014536",
     "exception": false,
     "start_time": "2022-03-06T09:09:41.992178",
     "status": "completed"
    },
    "tags": []
   },
   "outputs": [],
   "source": [
    "dataset_train = ImageDataset(df=train, img_dir='train/', transform=transform_train)\n",
    "dataset_valid = ImageDataset(df=valid, img_dir='train/', transform=transform_test)"
   ]
  },
  {
   "cell_type": "code",
   "execution_count": 9,
   "id": "c5d7e966",
   "metadata": {
    "_uuid": "c247391c28497ad35c72f5218398ea71f2d0d5ff",
    "execution": {
     "iopub.execute_input": "2022-03-06T09:09:42.049982Z",
     "iopub.status.busy": "2022-03-06T09:09:42.049324Z",
     "iopub.status.idle": "2022-03-06T09:09:42.052423Z",
     "shell.execute_reply": "2022-03-06T09:09:42.052045Z"
    },
    "papermill": {
     "duration": 0.022921,
     "end_time": "2022-03-06T09:09:42.052555",
     "exception": false,
     "start_time": "2022-03-06T09:09:42.029634",
     "status": "completed"
    },
    "tags": []
   },
   "outputs": [],
   "source": [
    "from torch.utils.data import DataLoader # 데이터 로더 클래스\n",
    "\n",
    "loader_train = DataLoader(dataset=dataset_train, batch_size=32, shuffle=True)\n",
    "loader_valid = DataLoader(dataset=dataset_valid, batch_size=32, shuffle=False)"
   ]
  },
  {
   "cell_type": "markdown",
   "id": "b7a49742",
   "metadata": {
    "papermill": {
     "duration": 0.015757,
     "end_time": "2022-03-06T09:09:42.083697",
     "exception": false,
     "start_time": "2022-03-06T09:09:42.067940",
     "status": "completed"
    },
    "tags": []
   },
   "source": [
    "## 11.4.2 모델 생성"
   ]
  },
  {
   "cell_type": "code",
   "execution_count": 10,
   "id": "3a890f27",
   "metadata": {
    "_uuid": "0a2d5600bc2eb915ec0bdf5b52ba11e25096f7d0",
    "execution": {
     "iopub.execute_input": "2022-03-06T09:09:42.129179Z",
     "iopub.status.busy": "2022-03-06T09:09:42.127608Z",
     "iopub.status.idle": "2022-03-06T09:09:42.129785Z",
     "shell.execute_reply": "2022-03-06T09:09:42.130177Z"
    },
    "papermill": {
     "duration": 0.030896,
     "end_time": "2022-03-06T09:09:42.130294",
     "exception": false,
     "start_time": "2022-03-06T09:09:42.099398",
     "status": "completed"
    },
    "tags": []
   },
   "outputs": [],
   "source": [
    "import torch.nn as nn # 신경망 모듈\n",
    "import torch.nn.functional as F # 신경망 모듈에서 자주 사용되는 함수\n",
    "\n",
    "class Model(nn.Module):\n",
    "    # 신경망 계층 정의\n",
    "    def __init__(self):\n",
    "        super().__init__() # 상속받은 nn.Module의 __init__() 메서드 호출\n",
    "        # 1 ~ 5번째 {합성곱, 배치 정규화, 최대 풀링} 계층 \n",
    "        self.layer1 = nn.Sequential(nn.Conv2d(in_channels=3, out_channels=32,\n",
    "                                              kernel_size=3, padding=2),\n",
    "                                    nn.BatchNorm2d(32), # 배치 정규화\n",
    "                                    nn.LeakyReLU(), # LeakyReLU 활성화 함수\n",
    "                                    nn.MaxPool2d(kernel_size=2))\n",
    "\n",
    "        self.layer2 = nn.Sequential(nn.Conv2d(in_channels=32, out_channels=64,\n",
    "                                              kernel_size=3, padding=2),\n",
    "                                    nn.BatchNorm2d(64),\n",
    "                                    nn.LeakyReLU(),\n",
    "                                    nn.MaxPool2d(kernel_size=2))\n",
    "        \n",
    "        self.layer3 = nn.Sequential(nn.Conv2d(in_channels=64, out_channels=128,\n",
    "                                              kernel_size=3, padding=2),\n",
    "                                    nn.BatchNorm2d(128),\n",
    "                                    nn.LeakyReLU(),\n",
    "                                    nn.MaxPool2d(kernel_size=2))\n",
    "        \n",
    "        self.layer4 = nn.Sequential(nn.Conv2d(in_channels=128, out_channels=256,\n",
    "                                              kernel_size=3, padding=2),\n",
    "                                    nn.BatchNorm2d(256),\n",
    "                                    nn.LeakyReLU(),\n",
    "                                    nn.MaxPool2d(kernel_size=2))\n",
    "        \n",
    "        self.layer5 = nn.Sequential(nn.Conv2d(in_channels=256, out_channels=512,\n",
    "                                              kernel_size=3, padding=2),\n",
    "                                    nn.BatchNorm2d(512),\n",
    "                                    nn.LeakyReLU(),\n",
    "                                    nn.MaxPool2d(kernel_size=2))\n",
    "        # 평균 풀링 계층 \n",
    "        self.avg_pool = nn.AvgPool2d(kernel_size=4) \n",
    "        # 전결합 계층\n",
    "        self.fc1 = nn.Linear(in_features=512 * 1 * 1, out_features=64)\n",
    "        self.fc2 = nn.Linear(in_features=64, out_features=2)\n",
    "\n",
    "    # 순전파 출력 정의 \n",
    "    def forward(self, x):\n",
    "        x = self.layer1(x)\n",
    "        x = self.layer2(x)\n",
    "        x = self.layer3(x)\n",
    "        x = self.layer4(x)\n",
    "        x = self.layer5(x)\n",
    "        x = self.avg_pool(x)\n",
    "        x = x.view(-1, 512 * 1 * 1) # 평탄화\n",
    "        x = self.fc1(x)\n",
    "        x = self.fc2(x)\n",
    "        return x"
   ]
  },
  {
   "cell_type": "code",
   "execution_count": 11,
   "id": "99edce43",
   "metadata": {
    "_cell_guid": "79c7e3d0-c299-4dcb-8224-4455121ee9b0",
    "_uuid": "d629ff2d2480ee46fbb7e2d37f6b5fab8052498a",
    "execution": {
     "iopub.execute_input": "2022-03-06T09:09:42.165114Z",
     "iopub.status.busy": "2022-03-06T09:09:42.164570Z",
     "iopub.status.idle": "2022-03-06T09:09:47.299472Z",
     "shell.execute_reply": "2022-03-06T09:09:47.298990Z"
    },
    "papermill": {
     "duration": 5.153935,
     "end_time": "2022-03-06T09:09:47.299617",
     "exception": false,
     "start_time": "2022-03-06T09:09:42.145682",
     "status": "completed"
    },
    "tags": []
   },
   "outputs": [],
   "source": [
    "model = Model().to(device)"
   ]
  },
  {
   "cell_type": "markdown",
   "id": "96311b9a",
   "metadata": {
    "papermill": {
     "duration": 0.015475,
     "end_time": "2022-03-06T09:09:47.331089",
     "exception": false,
     "start_time": "2022-03-06T09:09:47.315614",
     "status": "completed"
    },
    "tags": []
   },
   "source": [
    "## 11.4.3 모델 훈련"
   ]
  },
  {
   "cell_type": "markdown",
   "id": "61c7e911",
   "metadata": {
    "papermill": {
     "duration": 0.015415,
     "end_time": "2022-03-06T09:09:47.362017",
     "exception": false,
     "start_time": "2022-03-06T09:09:47.346602",
     "status": "completed"
    },
    "tags": []
   },
   "source": [
    "### 손실 함수와 옵티마이저 설정"
   ]
  },
  {
   "cell_type": "code",
   "execution_count": 12,
   "id": "492e3f6d",
   "metadata": {
    "execution": {
     "iopub.execute_input": "2022-03-06T09:09:47.424805Z",
     "iopub.status.busy": "2022-03-06T09:09:47.424030Z",
     "iopub.status.idle": "2022-03-06T09:09:47.426483Z",
     "shell.execute_reply": "2022-03-06T09:09:47.427169Z"
    },
    "papermill": {
     "duration": 0.039658,
     "end_time": "2022-03-06T09:09:47.427309",
     "exception": false,
     "start_time": "2022-03-06T09:09:47.387651",
     "status": "completed"
    },
    "tags": []
   },
   "outputs": [],
   "source": [
    "# 손실 함수\n",
    "criterion = nn.CrossEntropyLoss()"
   ]
  },
  {
   "cell_type": "code",
   "execution_count": 13,
   "id": "681daa41",
   "metadata": {
    "_uuid": "fceb2929d8750acb2de745cd9ff3d2d458820df8",
    "execution": {
     "iopub.execute_input": "2022-03-06T09:09:47.483547Z",
     "iopub.status.busy": "2022-03-06T09:09:47.482729Z",
     "iopub.status.idle": "2022-03-06T09:09:47.488091Z",
     "shell.execute_reply": "2022-03-06T09:09:47.488747Z"
    },
    "papermill": {
     "duration": 0.039318,
     "end_time": "2022-03-06T09:09:47.488944",
     "exception": false,
     "start_time": "2022-03-06T09:09:47.449626",
     "status": "completed"
    },
    "tags": []
   },
   "outputs": [],
   "source": [
    "# 옵티마이저\n",
    "optimizer = torch.optim.Adamax(model.parameters(), lr=0.00006)"
   ]
  },
  {
   "cell_type": "markdown",
   "id": "13622aa4",
   "metadata": {
    "papermill": {
     "duration": 0.023339,
     "end_time": "2022-03-06T09:09:47.540056",
     "exception": false,
     "start_time": "2022-03-06T09:09:47.516717",
     "status": "completed"
    },
    "tags": []
   },
   "source": [
    "### 모델 훈련"
   ]
  },
  {
   "cell_type": "code",
   "execution_count": 14,
   "id": "a7808400",
   "metadata": {
    "_uuid": "2c37417ae6b62ab4551bc8a888916ca1e591d284",
    "execution": {
     "iopub.execute_input": "2022-03-06T09:09:47.603684Z",
     "iopub.status.busy": "2022-03-06T09:09:47.602854Z",
     "iopub.status.idle": "2022-03-06T10:05:09.314987Z",
     "shell.execute_reply": "2022-03-06T10:05:09.315658Z"
    },
    "papermill": {
     "duration": 3321.748018,
     "end_time": "2022-03-06T10:05:09.315864",
     "exception": false,
     "start_time": "2022-03-06T09:09:47.567846",
     "status": "completed"
    },
    "tags": []
   },
   "outputs": [
    {
     "name": "stdout",
     "output_type": "stream",
     "text": [
      "에폭 [1/70] - 손실값: 0.1305\n",
      "에폭 [2/70] - 손실값: 0.0704\n",
      "에폭 [3/70] - 손실값: 0.0515\n",
      "에폭 [4/70] - 손실값: 0.0420\n",
      "에폭 [5/70] - 손실값: 0.0399\n",
      "에폭 [6/70] - 손실값: 0.0354\n",
      "에폭 [7/70] - 손실값: 0.0293\n",
      "에폭 [8/70] - 손실값: 0.0296\n",
      "에폭 [9/70] - 손실값: 0.0259\n",
      "에폭 [10/70] - 손실값: 0.0242\n",
      "에폭 [11/70] - 손실값: 0.0232\n",
      "에폭 [12/70] - 손실값: 0.0226\n",
      "에폭 [13/70] - 손실값: 0.0222\n",
      "에폭 [14/70] - 손실값: 0.0214\n",
      "에폭 [15/70] - 손실값: 0.0202\n",
      "에폭 [16/70] - 손실값: 0.0210\n",
      "에폭 [17/70] - 손실값: 0.0176\n",
      "에폭 [18/70] - 손실값: 0.0183\n",
      "에폭 [19/70] - 손실값: 0.0170\n",
      "에폭 [20/70] - 손실값: 0.0156\n",
      "에폭 [21/70] - 손실값: 0.0158\n",
      "에폭 [22/70] - 손실값: 0.0148\n",
      "에폭 [23/70] - 손실값: 0.0132\n",
      "에폭 [24/70] - 손실값: 0.0139\n",
      "에폭 [25/70] - 손실값: 0.0133\n",
      "에폭 [26/70] - 손실값: 0.0105\n",
      "에폭 [27/70] - 손실값: 0.0137\n",
      "에폭 [28/70] - 손실값: 0.0115\n",
      "에폭 [29/70] - 손실값: 0.0086\n",
      "에폭 [30/70] - 손실값: 0.0095\n",
      "에폭 [31/70] - 손실값: 0.0104\n",
      "에폭 [32/70] - 손실값: 0.0089\n",
      "에폭 [33/70] - 손실값: 0.0088\n",
      "에폭 [34/70] - 손실값: 0.0090\n",
      "에폭 [35/70] - 손실값: 0.0108\n",
      "에폭 [36/70] - 손실값: 0.0085\n",
      "에폭 [37/70] - 손실값: 0.0080\n",
      "에폭 [38/70] - 손실값: 0.0083\n",
      "에폭 [39/70] - 손실값: 0.0074\n",
      "에폭 [40/70] - 손실값: 0.0067\n",
      "에폭 [41/70] - 손실값: 0.0074\n",
      "에폭 [42/70] - 손실값: 0.0075\n",
      "에폭 [43/70] - 손실값: 0.0070\n",
      "에폭 [44/70] - 손실값: 0.0065\n",
      "에폭 [45/70] - 손실값: 0.0062\n",
      "에폭 [46/70] - 손실값: 0.0074\n",
      "에폭 [47/70] - 손실값: 0.0065\n",
      "에폭 [48/70] - 손실값: 0.0068\n",
      "에폭 [49/70] - 손실값: 0.0059\n",
      "에폭 [50/70] - 손실값: 0.0049\n",
      "에폭 [51/70] - 손실값: 0.0072\n",
      "에폭 [52/70] - 손실값: 0.0080\n",
      "에폭 [53/70] - 손실값: 0.0049\n",
      "에폭 [54/70] - 손실값: 0.0052\n",
      "에폭 [55/70] - 손실값: 0.0050\n",
      "에폭 [56/70] - 손실값: 0.0057\n",
      "에폭 [57/70] - 손실값: 0.0039\n",
      "에폭 [58/70] - 손실값: 0.0045\n",
      "에폭 [59/70] - 손실값: 0.0054\n",
      "에폭 [60/70] - 손실값: 0.0042\n",
      "에폭 [61/70] - 손실값: 0.0046\n",
      "에폭 [62/70] - 손실값: 0.0046\n",
      "에폭 [63/70] - 손실값: 0.0068\n",
      "에폭 [64/70] - 손실값: 0.0049\n",
      "에폭 [65/70] - 손실값: 0.0046\n",
      "에폭 [66/70] - 손실값: 0.0048\n",
      "에폭 [67/70] - 손실값: 0.0041\n",
      "에폭 [68/70] - 손실값: 0.0050\n",
      "에폭 [69/70] - 손실값: 0.0034\n",
      "에폭 [70/70] - 손실값: 0.0025\n"
     ]
    }
   ],
   "source": [
    "epochs = 70 # 총 에폭\n",
    "\n",
    "# 총 에폭만큼 반복\n",
    "for epoch in range(epochs):\n",
    "    epoch_loss = 0 # 에폭별 손실값 초기화\n",
    "    \n",
    "    # '반복 횟수'만큼 반복 \n",
    "    for images, labels in loader_train:\n",
    "        # 이미지, 레이블 데이터 미니배치를 장비에 할당 \n",
    "        images = images.to(device)\n",
    "        labels = labels.to(device)\n",
    "        \n",
    "        # 옵티마이저 내 기울기 초기화\n",
    "        optimizer.zero_grad()\n",
    "        # 순전파 : 이미지 데이터를 신경망 모델의 입력값으로 사용해 출력값 계산\n",
    "        outputs = model(images)\n",
    "        # 손실 함수를 활용해 outputs와 labels의 손실값 계산\n",
    "        loss = criterion(outputs, labels)\n",
    "        # 현재 배치에서의 손실 추가\n",
    "        epoch_loss += loss.item() \n",
    "        # 역전파 수행\n",
    "        loss.backward()\n",
    "        # 가중치 갱신\n",
    "        optimizer.step()\n",
    "        \n",
    "    print(f'에폭 [{epoch+1}/{epochs}] - 손실값: {epoch_loss/len(loader_train):.4f}')    "
   ]
  },
  {
   "cell_type": "markdown",
   "id": "006f3db3",
   "metadata": {
    "papermill": {
     "duration": 0.048902,
     "end_time": "2022-03-06T10:05:09.399204",
     "exception": false,
     "start_time": "2022-03-06T10:05:09.350302",
     "status": "completed"
    },
    "tags": []
   },
   "source": [
    "## 11.4.4 성능 검증"
   ]
  },
  {
   "cell_type": "code",
   "execution_count": 15,
   "id": "72d5a299",
   "metadata": {
    "execution": {
     "iopub.execute_input": "2022-03-06T10:05:09.538886Z",
     "iopub.status.busy": "2022-03-06T10:05:09.538045Z",
     "iopub.status.idle": "2022-03-06T10:05:11.779678Z",
     "shell.execute_reply": "2022-03-06T10:05:11.779087Z"
    },
    "papermill": {
     "duration": 2.312067,
     "end_time": "2022-03-06T10:05:11.779838",
     "exception": false,
     "start_time": "2022-03-06T10:05:09.467771",
     "status": "completed"
    },
    "tags": []
   },
   "outputs": [
    {
     "name": "stdout",
     "output_type": "stream",
     "text": [
      "검증 데이터 ROC AUC : 0.9998\n"
     ]
    }
   ],
   "source": [
    "from sklearn.metrics import roc_auc_score # ROC AUC 점수 계산 함수 임포트\n",
    "\n",
    "# 실제값과 예측 확률값을 담을 리스트 초기화\n",
    "true_list = []\n",
    "preds_list = []\n",
    "\n",
    "model.eval() # 모델을 평가 상태로 설정 \n",
    "\n",
    "with torch.no_grad(): # 기울기 계산 비활성화\n",
    "    for images, labels in loader_valid:\n",
    "        # 이미지, 레이블 데이터 미니배치를 장비에 할당 \n",
    "        images = images.to(device)\n",
    "        labels = labels.to(device)\n",
    "        \n",
    "        # 순전파 : 이미지 데이터를 신경망 모델의 입력값으로 사용해 출력값 계산\n",
    "        outputs = model(images)\n",
    "        preds = torch.softmax(outputs.cpu(), dim=1)[:, 1] # 예측 확률값\n",
    "        true = labels.cpu() # 실제값 \n",
    "        # 예측 확률값과 실제값을 리스트에 추가\n",
    "        preds_list.extend(preds)\n",
    "        true_list.extend(true)\n",
    "        \n",
    "# 검증 데이터 ROC AUC 점수 계산 \n",
    "print(f'검증 데이터 ROC AUC : {roc_auc_score(true_list, preds_list):.4f}')    "
   ]
  },
  {
   "cell_type": "markdown",
   "id": "336550a7",
   "metadata": {
    "papermill": {
     "duration": 0.036575,
     "end_time": "2022-03-06T10:05:11.851748",
     "exception": false,
     "start_time": "2022-03-06T10:05:11.815173",
     "status": "completed"
    },
    "tags": []
   },
   "source": [
    "## 11.4.5 예측 및 결과 제출"
   ]
  },
  {
   "cell_type": "code",
   "execution_count": 16,
   "id": "8bd07b5a",
   "metadata": {
    "execution": {
     "iopub.execute_input": "2022-03-06T10:05:11.933374Z",
     "iopub.status.busy": "2022-03-06T10:05:11.932559Z",
     "iopub.status.idle": "2022-03-06T10:05:16.638025Z",
     "shell.execute_reply": "2022-03-06T10:05:16.637535Z"
    },
    "papermill": {
     "duration": 4.747251,
     "end_time": "2022-03-06T10:05:16.638153",
     "exception": false,
     "start_time": "2022-03-06T10:05:11.890902",
     "status": "completed"
    },
    "tags": []
   },
   "outputs": [],
   "source": [
    "dataset_test = ImageDataset(df=submission, img_dir='test/', \n",
    "                            transform=transform_test)\n",
    "loader_test = DataLoader(dataset=dataset_test, batch_size=32, shuffle=False)\n",
    "\n",
    "# 예측 수행\n",
    "model.eval() # 모델을 평가 상태로 설정\n",
    "\n",
    "preds = [] # 타깃 예측값 저장용 리스트 초기화\n",
    "\n",
    "with torch.no_grad(): # 기울기 계산 비활성화\n",
    "    for images, _ in loader_test:\n",
    "        # 이미지 데이터 미니배치를 장비에 할당\n",
    "        images = images.to(device)\n",
    "        \n",
    "        # 순전파 : 이미지 데이터를 신경망 모델의 입력값으로 사용해 출력값 계산\n",
    "        outputs = model(images)\n",
    "        # 타깃값이 1일 확률(예측값)\n",
    "        preds_part = torch.softmax(outputs.cpu(), dim=1)[:, 1].tolist()\n",
    "        # preds에 preds_part 이어붙이기\n",
    "        preds.extend(preds_part)"
   ]
  },
  {
   "cell_type": "code",
   "execution_count": 17,
   "id": "c2695ef1",
   "metadata": {
    "execution": {
     "iopub.execute_input": "2022-03-06T10:05:16.714647Z",
     "iopub.status.busy": "2022-03-06T10:05:16.713774Z",
     "iopub.status.idle": "2022-03-06T10:05:16.733833Z",
     "shell.execute_reply": "2022-03-06T10:05:16.733326Z"
    },
    "papermill": {
     "duration": 0.061329,
     "end_time": "2022-03-06T10:05:16.733974",
     "exception": false,
     "start_time": "2022-03-06T10:05:16.672645",
     "status": "completed"
    },
    "tags": []
   },
   "outputs": [],
   "source": [
    "submission['has_cactus'] = preds\n",
    "submission.to_csv('submission.csv', index=False)"
   ]
  },
  {
   "cell_type": "code",
   "execution_count": 18,
   "id": "7fbfc472",
   "metadata": {
    "execution": {
     "iopub.execute_input": "2022-03-06T10:05:16.808153Z",
     "iopub.status.busy": "2022-03-06T10:05:16.807365Z",
     "iopub.status.idle": "2022-03-06T10:05:17.389593Z",
     "shell.execute_reply": "2022-03-06T10:05:17.389062Z"
    },
    "papermill": {
     "duration": 0.621607,
     "end_time": "2022-03-06T10:05:17.389720",
     "exception": false,
     "start_time": "2022-03-06T10:05:16.768113",
     "status": "completed"
    },
    "tags": []
   },
   "outputs": [],
   "source": [
    "import shutil\n",
    "\n",
    "shutil.rmtree('./train')\n",
    "shutil.rmtree('./test')"
   ]
  }
 ],
 "metadata": {
  "kernelspec": {
   "display_name": "Python 3",
   "language": "python",
   "name": "python3"
  },
  "language_info": {
   "codemirror_mode": {
    "name": "ipython",
    "version": 3
   },
   "file_extension": ".py",
   "mimetype": "text/x-python",
   "name": "python",
   "nbconvert_exporter": "python",
   "pygments_lexer": "ipython3",
   "version": "3.7.10"
  },
  "papermill": {
   "default_parameters": {},
   "duration": 3352.488134,
   "end_time": "2022-03-06T10:05:18.941064",
   "environment_variables": {},
   "exception": null,
   "input_path": "__notebook__.ipynb",
   "output_path": "__notebook__.ipynb",
   "parameters": {},
   "start_time": "2022-03-06T09:09:26.452930",
   "version": "2.3.3"
  }
 },
 "nbformat": 4,
 "nbformat_minor": 5
}
