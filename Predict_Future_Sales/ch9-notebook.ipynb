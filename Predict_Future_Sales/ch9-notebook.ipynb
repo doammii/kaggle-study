{
 "cells": [
  {
   "cell_type": "markdown",
   "id": "3f4c688e",
   "metadata": {
    "papermill": {
     "duration": 0.004102,
     "end_time": "2022-02-16T07:16:10.783865",
     "exception": false,
     "start_time": "2022-02-16T07:16:10.779763",
     "status": "completed"
    },
    "tags": []
   },
   "source": [
    "# 9장 향후 판매량 예측 경진대회 환경 세팅된 노트북 양식"
   ]
  },
  {
   "cell_type": "code",
   "execution_count": null,
   "id": "433cb866",
   "metadata": {
    "papermill": {
     "duration": 0.002263,
     "end_time": "2022-02-16T07:16:10.789019",
     "exception": false,
     "start_time": "2022-02-16T07:16:10.786756",
     "status": "completed"
    },
    "tags": []
   },
   "outputs": [],
   "source": []
  }
 ],
 "metadata": {
  "kernelspec": {
   "display_name": "Python 3",
   "language": "python",
   "name": "python3"
  },
  "language_info": {
   "codemirror_mode": {
    "name": "ipython",
    "version": 3
   },
   "file_extension": ".py",
   "mimetype": "text/x-python",
   "name": "python",
   "nbconvert_exporter": "python",
   "pygments_lexer": "ipython3",
   "version": "3.7.10"
  },
  "papermill": {
   "default_parameters": {},
   "duration": 8.705694,
   "end_time": "2022-02-16T07:16:11.905164",
   "environment_variables": {},
   "exception": null,
   "input_path": "__notebook__.ipynb",
   "output_path": "__notebook__.ipynb",
   "parameters": {},
   "start_time": "2022-02-16T07:16:03.199470",
   "version": "2.3.3"
  }
 },
 "nbformat": 4,
 "nbformat_minor": 5
}
