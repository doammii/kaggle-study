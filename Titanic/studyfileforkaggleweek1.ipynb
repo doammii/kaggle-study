{
 "cells": [
  {
   "cell_type": "code",
   "execution_count": 2,
   "id": "655b95d0",
   "metadata": {},
   "outputs": [
    {
     "name": "stdout",
     "output_type": "stream",
     "text": [
      "Collecting package metadata (current_repodata.json): ...working... done\n",
      "Solving environment: ...working... failed with initial frozen solve. Retrying with flexible solve.\n",
      "Collecting package metadata (repodata.json): ...working... done\n",
      "Solving environment: ...working... failed with initial frozen solve. Retrying with flexible solve.\n",
      "Solving environment: ...working... \n",
      "Found conflicts! Looking for incompatible packages.\n",
      "This can take several minutes.  Press CTRL-C to abort.\n",
      "failed\n"
     ]
    },
    {
     "name": "stderr",
     "output_type": "stream",
     "text": [
      "\n",
      "Building graph of deps:   0%|          | 0/4 [00:00<?, ?it/s]\n",
      "Examining python=3.10:   0%|          | 0/4 [00:00<?, ?it/s] \n",
      "Examining @/win-64::__win==0=0:  25%|##5       | 1/4 [00:00<00:00,  6.99it/s]\n",
      "Examining @/win-64::__win==0=0:  50%|#####     | 2/4 [00:00<00:00, 13.86it/s]\n",
      "Examining @/win-64::__archspec==1=x86_64:  50%|#####     | 2/4 [00:00<00:00, 13.86it/s]\n",
      "Examining numpy=1.19.1:  75%|#######5  | 3/4 [00:00<00:00, 13.86it/s]                  \n",
      "                                                                     \n",
      "\n",
      "Determining conflicts:   0%|          | 0/4 [00:00<?, ?it/s]\n",
      "Examining conflict for python numpy:   0%|          | 0/4 [00:00<?, ?it/s]\n",
      "                                                                          \n",
      "\n",
      "UnsatisfiableError: The following specifications were found\n",
      "to be incompatible with the existing python installation in your environment:\n",
      "\n",
      "Specifications:\n",
      "\n",
      "  - numpy=1.19.1 -> python[version='>=3.6,<3.7.0a0|>=3.7,<3.8.0a0|>=3.8,<3.9.0a0']\n",
      "\n",
      "Your python: python=3.10\n",
      "\n",
      "If python is on the left-most side of the chain, that's the version you've asked for.\n",
      "When python appears to the right, that indicates that the thing on the left is somehow\n",
      "not available for the python version you are constrained to. Note that conda will not\n",
      "change your python version to a different minor version unless you explicitly specify\n",
      "that.\n",
      "\n",
      "\n",
      "\n",
      "\n",
      "CondaValueError: invalid package specification: =\n",
      "\n"
     ]
    },
    {
     "name": "stdout",
     "output_type": "stream",
     "text": [
      "Collecting package metadata (current_repodata.json): ...working... done\n",
      "Solving environment: ...working... failed with initial frozen solve. Retrying with flexible solve.\n",
      "Collecting package metadata (repodata.json): ...working... done\n",
      "Solving environment: ...working... failed with initial frozen solve. Retrying with flexible solve.\n",
      "Solving environment: ...working... \n",
      "Found conflicts! Looking for incompatible packages.\n",
      "This can take several minutes.  Press CTRL-C to abort.\n",
      "failed\n"
     ]
    },
    {
     "name": "stderr",
     "output_type": "stream",
     "text": [
      "\n",
      "Building graph of deps:   0%|          | 0/4 [00:00<?, ?it/s]\n",
      "Examining python=3.10:   0%|          | 0/4 [00:00<?, ?it/s] \n",
      "Examining @/win-64::__win==0=0:  25%|##5       | 1/4 [00:00<00:00,  7.25it/s]\n",
      "Examining @/win-64::__win==0=0:  50%|#####     | 2/4 [00:00<00:00, 14.49it/s]\n",
      "Examining @/win-64::__archspec==1=x86_64:  50%|#####     | 2/4 [00:00<00:00, 14.49it/s]\n",
      "Examining matplotlib=3.2.2:  75%|#######5  | 3/4 [00:00<00:00, 14.49it/s]              \n",
      "                                                                         \n",
      "\n",
      "Determining conflicts:   0%|          | 0/4 [00:00<?, ?it/s]\n",
      "Examining conflict for python matplotlib:   0%|          | 0/4 [00:00<?, ?it/s]\n",
      "                                                                               \n",
      "\n",
      "UnsatisfiableError: The following specifications were found to be incompatible with each other:\n",
      "\n",
      "Output in format: Requested package -> Available versions\n",
      "\n"
     ]
    },
    {
     "name": "stdout",
     "output_type": "stream",
     "text": [
      "Collecting package metadata (current_repodata.json): ...working... done\n",
      "Solving environment: ...working... done\n",
      "\n",
      "# All requested packages already installed.\n",
      "\n",
      "Collecting package metadata (current_repodata.json): ...working... done\n",
      "Solving environment: ...working... failed with initial frozen solve. Retrying with flexible solve.\n",
      "Collecting package metadata (repodata.json): ...working... done\n",
      "Solving environment: ...working... failed with initial frozen solve. Retrying with flexible solve.\n",
      "Solving environment: ...working... \n",
      "Found conflicts! Looking for incompatible packages.\n",
      "This can take several minutes.  Press CTRL-C to abort.\n",
      "failed\n"
     ]
    },
    {
     "name": "stderr",
     "output_type": "stream",
     "text": [
      "\n",
      "Building graph of deps:   0%|          | 0/4 [00:00<?, ?it/s]\n",
      "Examining scikit-learn=0.23.2:   0%|          | 0/4 [00:00<?, ?it/s]\n",
      "Examining python=3.10:  25%|##5       | 1/4 [00:00<00:00,  6.45it/s]\n",
      "Examining python=3.10:  50%|#####     | 2/4 [00:00<00:00, 12.90it/s]\n",
      "Examining @/win-64::__archspec==1=x86_64:  50%|#####     | 2/4 [00:00<00:00, 12.90it/s]\n",
      "Examining @/win-64::__win==0=0:  75%|#######5  | 3/4 [00:00<00:00, 12.90it/s]          \n",
      "Examining @/win-64::__win==0=0: 100%|##########| 4/4 [00:00<00:00, 13.68it/s]\n",
      "                                                                             \n",
      "\n",
      "Determining conflicts:   0%|          | 0/4 [00:00<?, ?it/s]\n",
      "Examining conflict for scikit-learn python:   0%|          | 0/4 [00:00<?, ?it/s]\n",
      "                                                                                 \n",
      "\n",
      "UnsatisfiableError: The following specifications were found\n",
      "to be incompatible with the existing python installation in your environment:\n",
      "\n",
      "Specifications:\n",
      "\n",
      "  - scikit-learn=0.23.2 -> python[version='>=3.6,<3.7.0a0|>=3.7,<3.8.0a0|>=3.8,<3.9.0a0|>=3.9,<3.10.0a0']\n",
      "\n",
      "Your python: python=3.10\n",
      "\n",
      "If python is on the left-most side of the chain, that's the version you've asked for.\n",
      "When python appears to the right, that indicates that the thing on the left is somehow\n",
      "not available for the python version you are constrained to. Note that conda will not\n",
      "change your python version to a different minor version unless you explicitly specify\n",
      "that.\n",
      "\n",
      "\n",
      "\n"
     ]
    },
    {
     "name": "stdout",
     "output_type": "stream",
     "text": [
      "Collecting package metadata (current_repodata.json): ...working... done\n",
      "Solving environment: ...working... failed with initial frozen solve. Retrying with flexible solve.\n",
      "Collecting package metadata (repodata.json): ...working... done\n",
      "Solving environment: ...working... failed with initial frozen solve. Retrying with flexible solve.\n",
      "Solving environment: ...working... \n",
      "Found conflicts! Looking for incompatible packages.\n",
      "This can take several minutes.  Press CTRL-C to abort.\n",
      "failed\n"
     ]
    },
    {
     "name": "stderr",
     "output_type": "stream",
     "text": [
      "\n",
      "Building graph of deps:   0%|          | 0/4 [00:00<?, ?it/s]\n",
      "Examining lightgbm=2.3.0:   0%|          | 0/4 [00:00<?, ?it/s]\n",
      "Examining @/win-64::__win==0=0:  25%|##5       | 1/4 [00:00<00:00,  3.90it/s]\n",
      "Examining @/win-64::__win==0=0:  50%|#####     | 2/4 [00:00<00:00,  7.81it/s]\n",
      "Examining python=3.10:  50%|#####     | 2/4 [00:00<00:00,  7.81it/s]         \n",
      "Examining @/win-64::__archspec==1=x86_64:  75%|#######5  | 3/4 [00:00<00:00,  7.81it/s]\n",
      "Examining @/win-64::__archspec==1=x86_64: 100%|##########| 4/4 [00:00<00:00, 10.65it/s]\n",
      "                                                                                       \n",
      "\n",
      "Determining conflicts:   0%|          | 0/4 [00:00<?, ?it/s]\n",
      "Examining conflict for lightgbm python:   0%|          | 0/4 [00:00<?, ?it/s]\n",
      "                                                                             \n",
      "\n",
      "UnsatisfiableError: The following specifications were found\n",
      "to be incompatible with the existing python installation in your environment:\n",
      "\n",
      "Specifications:\n",
      "\n",
      "  - lightgbm=2.3.0 -> python[version='>=2.7,<2.8.0a0|>=3.8,<3.9.0a0|>=3.6,<3.7.0a0|>=3.7,<3.8.0a0']\n",
      "\n",
      "Your python: python=3.10\n",
      "\n",
      "If python is on the left-most side of the chain, that's the version you've asked for.\n",
      "When python appears to the right, that indicates that the thing on the left is somehow\n",
      "not available for the python version you are constrained to. Note that conda will not\n",
      "change your python version to a different minor version unless you explicitly specify\n",
      "that.\n",
      "\n",
      "\n",
      "\n"
     ]
    },
    {
     "name": "stdout",
     "output_type": "stream",
     "text": [
      "Collecting package metadata (current_repodata.json): ...working... done\n",
      "Solving environment: ...working... failed with initial frozen solve. Retrying with flexible solve.\n",
      "Collecting package metadata (repodata.json): ...working... done\n",
      "Solving environment: ...working... failed with initial frozen solve. Retrying with flexible solve.\n"
     ]
    },
    {
     "name": "stderr",
     "output_type": "stream",
     "text": [
      "\n",
      "PackagesNotFoundError: The following packages are not available from current channels:\n",
      "\n",
      "  - optuna=2.0.0\n",
      "\n",
      "Current channels:\n",
      "\n",
      "  - https://repo.anaconda.com/pkgs/main/win-64\n",
      "  - https://repo.anaconda.com/pkgs/main/noarch\n",
      "  - https://repo.anaconda.com/pkgs/r/win-64\n",
      "  - https://repo.anaconda.com/pkgs/r/noarch\n",
      "  - https://repo.anaconda.com/pkgs/msys2/win-64\n",
      "  - https://repo.anaconda.com/pkgs/msys2/noarch\n",
      "\n",
      "To search for alternate channels that may provide the conda package you're\n",
      "looking for, navigate to\n",
      "\n",
      "    https://anaconda.org\n",
      "\n",
      "and use the search bar at the top of the page.\n",
      "\n",
      "\n"
     ]
    },
    {
     "name": "stdout",
     "output_type": "stream",
     "text": [
      "Collecting package metadata (current_repodata.json): ...working... done\n",
      "Solving environment: ...working... failed with initial frozen solve. Retrying with flexible solve.\n",
      "Collecting package metadata (repodata.json): ...working... done\n",
      "Solving environment: ...working... failed with initial frozen solve. Retrying with flexible solve.\n"
     ]
    },
    {
     "name": "stderr",
     "output_type": "stream",
     "text": [
      "\n",
      "PackagesNotFoundError: The following packages are not available from current channels:\n",
      "\n",
      "  - xgboost=1.1.1\n",
      "\n",
      "Current channels:\n",
      "\n",
      "  - https://repo.anaconda.com/pkgs/main/win-64\n",
      "  - https://repo.anaconda.com/pkgs/main/noarch\n",
      "  - https://repo.anaconda.com/pkgs/r/win-64\n",
      "  - https://repo.anaconda.com/pkgs/r/noarch\n",
      "  - https://repo.anaconda.com/pkgs/msys2/win-64\n",
      "  - https://repo.anaconda.com/pkgs/msys2/noarch\n",
      "\n",
      "To search for alternate channels that may provide the conda package you're\n",
      "looking for, navigate to\n",
      "\n",
      "    https://anaconda.org\n",
      "\n",
      "and use the search bar at the top of the page.\n",
      "\n",
      "\n"
     ]
    },
    {
     "name": "stdout",
     "output_type": "stream",
     "text": [
      "Collecting package metadata (current_repodata.json): ...working... done\n",
      "Solving environment: ...working... done\n",
      "\n",
      "# All requested packages already installed.\n",
      "\n",
      "Collecting package metadata (current_repodata.json): ...working... done\n",
      "Solving environment: ...working... done\n",
      "\n",
      "# All requested packages already installed.\n",
      "\n"
     ]
    },
    {
     "name": "stderr",
     "output_type": "stream",
     "text": [
      "\n",
      "Usage:   \n",
      "  pip install [options] <requirement specifier> [package-index-options] ...\n",
      "  pip install [options] -r <requirements file> [package-index-options] ...\n",
      "  pip install [options] [-e] <vcs project url> ...\n",
      "  pip install [options] [-e] <local project path> ...\n",
      "  pip install [options] <archive url/path> ...\n",
      "\n",
      "no such option: --yes\n"
     ]
    }
   ],
   "source": [
    "!conda install numpy=1.19.1 --yes \n",
    "\n",
    "!conda install pandas = 1.0.5 --yes\n",
    "\n",
    "!conda install matplotlib=3.2.2 --yes\n",
    "\n",
    "!conda install seaborn=0.10.1 --yes\n",
    "\n",
    "!conda install scikit-learn=0.23.2 --yes \n",
    "\n",
    "!conda install lightgbm=2.3.0 --yes \n",
    "\n",
    "!conda install optuna=2.0.0 --yes\n",
    "\n",
    "!conda install xgboost=1.1.1 --yes\n",
    "\n",
    "!conda install pydotplus=2.0.2 --yes\n",
    "\n",
    "!conda install six=1.15.0 --yes  \n",
    "\n",
    "!pip install graphviz=0.14.1 --yes  "
   ]
  },
  {
   "cell_type": "markdown",
   "id": "97376184",
   "metadata": {},
   "source": [
    "### ▶데이터 분석에 필요한 numpy, pandas 라이브러리 임포트하기 \n",
    " \n",
    "```python\n",
    "import numpy as np\n",
    "import pandas as pd\n",
    "```"
   ]
  },
  {
   "cell_type": "code",
   "execution_count": 3,
   "id": "6d0f32b2",
   "metadata": {},
   "outputs": [],
   "source": [
    "import numpy as np\n",
    "import pandas as pd"
   ]
  },
  {
   "cell_type": "markdown",
   "id": "25cab643",
   "metadata": {},
   "source": [
    "### ▶pandas의 read_csv 로 데이터 읽어오기  \n",
    "```python\n",
    "train_df = pd.read_csv(\"./data/train.csv\")\n",
    "test_df = pd.read_csv(\"./data/test.csv\")\n",
    "submission = pd.read_csv(\"./data/gender_submission.csv\")\n",
    "```"
   ]
  },
  {
   "cell_type": "code",
   "execution_count": 4,
   "id": "3e2acb8e",
   "metadata": {},
   "outputs": [],
   "source": [
    "train_df = pd.read_csv(\"./train.csv\")\n",
    "test_df = pd.read_csv(\"./test.csv\")\n",
    "submission = pd.read_csv(\"./gender_submission.csv\")"
   ]
  },
  {
   "cell_type": "markdown",
   "id": "4d76bbd3",
   "metadata": {},
   "source": [
    "### ▶ 읽어 온 데이터 확인하기\n",
    "#### 1. 데이터를 전체적으로 파악하는 법\n",
    "- 데이터의 이름 // train_df\n",
    "- head(n), tail(n) 함수 // train_df.head(5)\n",
    "- 행과 열의 갯수 // train_df.shape\n",
    "- 열의 데이터 타입 // train_df.dtypes\n"
   ]
  },
  {
   "cell_type": "code",
   "execution_count": 5,
   "id": "f2dfce82",
   "metadata": {},
   "outputs": [
    {
     "data": {
      "text/html": [
       "<div>\n",
       "<style scoped>\n",
       "    .dataframe tbody tr th:only-of-type {\n",
       "        vertical-align: middle;\n",
       "    }\n",
       "\n",
       "    .dataframe tbody tr th {\n",
       "        vertical-align: top;\n",
       "    }\n",
       "\n",
       "    .dataframe thead th {\n",
       "        text-align: right;\n",
       "    }\n",
       "</style>\n",
       "<table border=\"1\" class=\"dataframe\">\n",
       "  <thead>\n",
       "    <tr style=\"text-align: right;\">\n",
       "      <th></th>\n",
       "      <th>PassengerId</th>\n",
       "      <th>Survived</th>\n",
       "      <th>Pclass</th>\n",
       "      <th>Name</th>\n",
       "      <th>Sex</th>\n",
       "      <th>Age</th>\n",
       "      <th>SibSp</th>\n",
       "      <th>Parch</th>\n",
       "      <th>Ticket</th>\n",
       "      <th>Fare</th>\n",
       "      <th>Cabin</th>\n",
       "      <th>Embarked</th>\n",
       "    </tr>\n",
       "  </thead>\n",
       "  <tbody>\n",
       "    <tr>\n",
       "      <th>0</th>\n",
       "      <td>1</td>\n",
       "      <td>0</td>\n",
       "      <td>3</td>\n",
       "      <td>Braund, Mr. Owen Harris</td>\n",
       "      <td>male</td>\n",
       "      <td>22.0</td>\n",
       "      <td>1</td>\n",
       "      <td>0</td>\n",
       "      <td>A/5 21171</td>\n",
       "      <td>7.2500</td>\n",
       "      <td>NaN</td>\n",
       "      <td>S</td>\n",
       "    </tr>\n",
       "    <tr>\n",
       "      <th>1</th>\n",
       "      <td>2</td>\n",
       "      <td>1</td>\n",
       "      <td>1</td>\n",
       "      <td>Cumings, Mrs. John Bradley (Florence Briggs Th...</td>\n",
       "      <td>female</td>\n",
       "      <td>38.0</td>\n",
       "      <td>1</td>\n",
       "      <td>0</td>\n",
       "      <td>PC 17599</td>\n",
       "      <td>71.2833</td>\n",
       "      <td>C85</td>\n",
       "      <td>C</td>\n",
       "    </tr>\n",
       "    <tr>\n",
       "      <th>2</th>\n",
       "      <td>3</td>\n",
       "      <td>1</td>\n",
       "      <td>3</td>\n",
       "      <td>Heikkinen, Miss. Laina</td>\n",
       "      <td>female</td>\n",
       "      <td>26.0</td>\n",
       "      <td>0</td>\n",
       "      <td>0</td>\n",
       "      <td>STON/O2. 3101282</td>\n",
       "      <td>7.9250</td>\n",
       "      <td>NaN</td>\n",
       "      <td>S</td>\n",
       "    </tr>\n",
       "    <tr>\n",
       "      <th>3</th>\n",
       "      <td>4</td>\n",
       "      <td>1</td>\n",
       "      <td>1</td>\n",
       "      <td>Futrelle, Mrs. Jacques Heath (Lily May Peel)</td>\n",
       "      <td>female</td>\n",
       "      <td>35.0</td>\n",
       "      <td>1</td>\n",
       "      <td>0</td>\n",
       "      <td>113803</td>\n",
       "      <td>53.1000</td>\n",
       "      <td>C123</td>\n",
       "      <td>S</td>\n",
       "    </tr>\n",
       "    <tr>\n",
       "      <th>4</th>\n",
       "      <td>5</td>\n",
       "      <td>0</td>\n",
       "      <td>3</td>\n",
       "      <td>Allen, Mr. William Henry</td>\n",
       "      <td>male</td>\n",
       "      <td>35.0</td>\n",
       "      <td>0</td>\n",
       "      <td>0</td>\n",
       "      <td>373450</td>\n",
       "      <td>8.0500</td>\n",
       "      <td>NaN</td>\n",
       "      <td>S</td>\n",
       "    </tr>\n",
       "    <tr>\n",
       "      <th>...</th>\n",
       "      <td>...</td>\n",
       "      <td>...</td>\n",
       "      <td>...</td>\n",
       "      <td>...</td>\n",
       "      <td>...</td>\n",
       "      <td>...</td>\n",
       "      <td>...</td>\n",
       "      <td>...</td>\n",
       "      <td>...</td>\n",
       "      <td>...</td>\n",
       "      <td>...</td>\n",
       "      <td>...</td>\n",
       "    </tr>\n",
       "    <tr>\n",
       "      <th>886</th>\n",
       "      <td>887</td>\n",
       "      <td>0</td>\n",
       "      <td>2</td>\n",
       "      <td>Montvila, Rev. Juozas</td>\n",
       "      <td>male</td>\n",
       "      <td>27.0</td>\n",
       "      <td>0</td>\n",
       "      <td>0</td>\n",
       "      <td>211536</td>\n",
       "      <td>13.0000</td>\n",
       "      <td>NaN</td>\n",
       "      <td>S</td>\n",
       "    </tr>\n",
       "    <tr>\n",
       "      <th>887</th>\n",
       "      <td>888</td>\n",
       "      <td>1</td>\n",
       "      <td>1</td>\n",
       "      <td>Graham, Miss. Margaret Edith</td>\n",
       "      <td>female</td>\n",
       "      <td>19.0</td>\n",
       "      <td>0</td>\n",
       "      <td>0</td>\n",
       "      <td>112053</td>\n",
       "      <td>30.0000</td>\n",
       "      <td>B42</td>\n",
       "      <td>S</td>\n",
       "    </tr>\n",
       "    <tr>\n",
       "      <th>888</th>\n",
       "      <td>889</td>\n",
       "      <td>0</td>\n",
       "      <td>3</td>\n",
       "      <td>Johnston, Miss. Catherine Helen \"Carrie\"</td>\n",
       "      <td>female</td>\n",
       "      <td>NaN</td>\n",
       "      <td>1</td>\n",
       "      <td>2</td>\n",
       "      <td>W./C. 6607</td>\n",
       "      <td>23.4500</td>\n",
       "      <td>NaN</td>\n",
       "      <td>S</td>\n",
       "    </tr>\n",
       "    <tr>\n",
       "      <th>889</th>\n",
       "      <td>890</td>\n",
       "      <td>1</td>\n",
       "      <td>1</td>\n",
       "      <td>Behr, Mr. Karl Howell</td>\n",
       "      <td>male</td>\n",
       "      <td>26.0</td>\n",
       "      <td>0</td>\n",
       "      <td>0</td>\n",
       "      <td>111369</td>\n",
       "      <td>30.0000</td>\n",
       "      <td>C148</td>\n",
       "      <td>C</td>\n",
       "    </tr>\n",
       "    <tr>\n",
       "      <th>890</th>\n",
       "      <td>891</td>\n",
       "      <td>0</td>\n",
       "      <td>3</td>\n",
       "      <td>Dooley, Mr. Patrick</td>\n",
       "      <td>male</td>\n",
       "      <td>32.0</td>\n",
       "      <td>0</td>\n",
       "      <td>0</td>\n",
       "      <td>370376</td>\n",
       "      <td>7.7500</td>\n",
       "      <td>NaN</td>\n",
       "      <td>Q</td>\n",
       "    </tr>\n",
       "  </tbody>\n",
       "</table>\n",
       "<p>891 rows × 12 columns</p>\n",
       "</div>"
      ],
      "text/plain": [
       "     PassengerId  Survived  Pclass  \\\n",
       "0              1         0       3   \n",
       "1              2         1       1   \n",
       "2              3         1       3   \n",
       "3              4         1       1   \n",
       "4              5         0       3   \n",
       "..           ...       ...     ...   \n",
       "886          887         0       2   \n",
       "887          888         1       1   \n",
       "888          889         0       3   \n",
       "889          890         1       1   \n",
       "890          891         0       3   \n",
       "\n",
       "                                                  Name     Sex   Age  SibSp  \\\n",
       "0                              Braund, Mr. Owen Harris    male  22.0      1   \n",
       "1    Cumings, Mrs. John Bradley (Florence Briggs Th...  female  38.0      1   \n",
       "2                               Heikkinen, Miss. Laina  female  26.0      0   \n",
       "3         Futrelle, Mrs. Jacques Heath (Lily May Peel)  female  35.0      1   \n",
       "4                             Allen, Mr. William Henry    male  35.0      0   \n",
       "..                                                 ...     ...   ...    ...   \n",
       "886                              Montvila, Rev. Juozas    male  27.0      0   \n",
       "887                       Graham, Miss. Margaret Edith  female  19.0      0   \n",
       "888           Johnston, Miss. Catherine Helen \"Carrie\"  female   NaN      1   \n",
       "889                              Behr, Mr. Karl Howell    male  26.0      0   \n",
       "890                                Dooley, Mr. Patrick    male  32.0      0   \n",
       "\n",
       "     Parch            Ticket     Fare Cabin Embarked  \n",
       "0        0         A/5 21171   7.2500   NaN        S  \n",
       "1        0          PC 17599  71.2833   C85        C  \n",
       "2        0  STON/O2. 3101282   7.9250   NaN        S  \n",
       "3        0            113803  53.1000  C123        S  \n",
       "4        0            373450   8.0500   NaN        S  \n",
       "..     ...               ...      ...   ...      ...  \n",
       "886      0            211536  13.0000   NaN        S  \n",
       "887      0            112053  30.0000   B42        S  \n",
       "888      2        W./C. 6607  23.4500   NaN        S  \n",
       "889      0            111369  30.0000  C148        C  \n",
       "890      0            370376   7.7500   NaN        Q  \n",
       "\n",
       "[891 rows x 12 columns]"
      ]
     },
     "execution_count": 5,
     "metadata": {},
     "output_type": "execute_result"
    }
   ],
   "source": [
    "train_df"
   ]
  },
  {
   "cell_type": "markdown",
   "id": "6f5b1544",
   "metadata": {},
   "source": [
    "head, tail 함수 사용하기  \n",
    "<span style=\"color:#808080\"># train_df.head()</span>  \n",
    "<span style=\"color:#808080\"># train_df.tail()</span>  \n",
    "<span style=\"color:#808080\"># train_df.tail(10)</span>"
   ]
  },
  {
   "cell_type": "code",
   "execution_count": null,
   "id": "2ac21596",
   "metadata": {},
   "outputs": [],
   "source": []
  },
  {
   "cell_type": "markdown",
   "id": "3a78c59f",
   "metadata": {},
   "source": [
    "shape 기능 사용하기  \n",
    "<span style=\"color:#808080\"># print(train_df.shape)</span>  \n",
    "<span style=\"color:#808080\"># print(test_df.shape)</span>  \n",
    "<span style=\"color:#808080\"># print(submission.shape)</span>"
   ]
  },
  {
   "cell_type": "code",
   "execution_count": null,
   "id": "dd603018",
   "metadata": {},
   "outputs": [],
   "source": []
  },
  {
   "cell_type": "markdown",
   "id": "855091cd",
   "metadata": {},
   "source": [
    "데이터 테이블 컬럼의 타입 확인하기  \n",
    "<span style=\"color:#808080\"># train_df.dtypes</span>  "
   ]
  },
  {
   "cell_type": "code",
   "execution_count": null,
   "id": "da2fbdfb",
   "metadata": {},
   "outputs": [],
   "source": []
  },
  {
   "cell_type": "markdown",
   "id": "065326c4",
   "metadata": {},
   "source": [
    "### ▶ 읽어 온 데이터 확인하기\n",
    "#### 2. 변수마다 데이터 파악하기\n",
    "- 수치형 변수를 집계하는 describe 함수 // train_df.describe()\n",
    "- 명목형 변수를 집계하는 value_counts() 함수 // train_df[\"Cabin\"].value_counts()\n",
    "- 결측치를 확인하는 isnull().sum() // train_df.isnull().sum()"
   ]
  },
  {
   "cell_type": "markdown",
   "id": "a6f84bf1",
   "metadata": {},
   "source": [
    "수치형 변수를 집계하는 함수: describe  \n",
    "<span style=\"color:#808080\"># train_df.describe()</span>  \n",
    "<span style=\"color:#808080\"># test_df.describe()</span>  "
   ]
  },
  {
   "cell_type": "code",
   "execution_count": null,
   "id": "edc0965a",
   "metadata": {},
   "outputs": [],
   "source": []
  },
  {
   "cell_type": "markdown",
   "id": "8994831b",
   "metadata": {},
   "source": [
    "명목형 변수 집계하기  \n",
    "<span style=\"color:#808080\"># train_df[\"Cabin\"].value_counts()</span>  \n",
    "<span style=\"color:#808080\"># train_df[\"Sex\"].value_counts()</span>  \n",
    "<span style=\"color:#808080\"># train_df[\"Embarked\"].value_counts()</span>  "
   ]
  },
  {
   "cell_type": "code",
   "execution_count": null,
   "id": "58f38786",
   "metadata": {},
   "outputs": [],
   "source": []
  },
  {
   "cell_type": "markdown",
   "id": "b621f066",
   "metadata": {},
   "source": [
    "명목형 변수 'Sex'에 대해 집계하기"
   ]
  },
  {
   "cell_type": "code",
   "execution_count": null,
   "id": "00670a06",
   "metadata": {},
   "outputs": [],
   "source": []
  },
  {
   "cell_type": "markdown",
   "id": "718615c1",
   "metadata": {},
   "source": [
    "명목형 변수 'Embarked'에 대해 집계하기"
   ]
  },
  {
   "cell_type": "code",
   "execution_count": null,
   "id": "e4f938be",
   "metadata": {},
   "outputs": [],
   "source": []
  },
  {
   "cell_type": "markdown",
   "id": "e377f1ee",
   "metadata": {},
   "source": [
    "결측치 확인하기: isnull() + sum() \n",
    "\n",
    "<span style=\"color:#808080\"># train_df.isnull()</span>  \n",
    "<span style=\"color:#808080\"># train_df.isnull().sum()</span>  \n",
    "<span style=\"color:#808080\"># test_df.isnull().sum()</span>  "
   ]
  },
  {
   "cell_type": "code",
   "execution_count": null,
   "id": "d89648e3",
   "metadata": {},
   "outputs": [],
   "source": []
  },
  {
   "cell_type": "markdown",
   "id": "7d25cf84",
   "metadata": {},
   "source": [
    "### ■ 데이터 조작하기\n",
    "#### 1. 데이터 프레임을 자유롭게 조작하기\n",
    "- 원하는 열만을 뽑아 새로운 데이터 프레임 만들기 // train_df[[\"Embarked\"]], train_df[[\"Embarked\", \"PassengerId\"]]\n",
    "- 데이터들을 그룹화하기 // groupby([\"Embarked\"])\n",
    "- 결측치가 있는 행을 제외하는 dropna() / group별로 데이터의 개수를 세 주는 count() / unstack()\n",
    "\n",
    "\n",
    "#### Q. 어느 항구에서 출발했을 때 생존률이 가장 높을까?"
   ]
  },
  {
   "cell_type": "markdown",
   "id": "9c9cc006",
   "metadata": {},
   "source": [
    "원하는 행과 열을 추출하기  \n",
    "<span style=\"color:#808080\"># train_df[\"Embarked\"]</span>  \n",
    "<span style=\"color:#808080\"># train_df[[\"Embarked\"]]</span>  \n",
    "<span style=\"color:#808080\"># train_df[[\"Embarked\", \"Survived\", \"PassengerId\"]]</span>  "
   ]
  },
  {
   "cell_type": "code",
   "execution_count": 6,
   "id": "20125583",
   "metadata": {},
   "outputs": [
    {
     "data": {
      "text/html": [
       "<div>\n",
       "<style scoped>\n",
       "    .dataframe tbody tr th:only-of-type {\n",
       "        vertical-align: middle;\n",
       "    }\n",
       "\n",
       "    .dataframe tbody tr th {\n",
       "        vertical-align: top;\n",
       "    }\n",
       "\n",
       "    .dataframe thead th {\n",
       "        text-align: right;\n",
       "    }\n",
       "</style>\n",
       "<table border=\"1\" class=\"dataframe\">\n",
       "  <thead>\n",
       "    <tr style=\"text-align: right;\">\n",
       "      <th></th>\n",
       "    </tr>\n",
       "  </thead>\n",
       "  <tbody>\n",
       "    <tr>\n",
       "      <th>0</th>\n",
       "    </tr>\n",
       "    <tr>\n",
       "      <th>1</th>\n",
       "    </tr>\n",
       "    <tr>\n",
       "      <th>2</th>\n",
       "    </tr>\n",
       "    <tr>\n",
       "      <th>3</th>\n",
       "    </tr>\n",
       "    <tr>\n",
       "      <th>4</th>\n",
       "    </tr>\n",
       "    <tr>\n",
       "      <th>...</th>\n",
       "    </tr>\n",
       "    <tr>\n",
       "      <th>886</th>\n",
       "    </tr>\n",
       "    <tr>\n",
       "      <th>887</th>\n",
       "    </tr>\n",
       "    <tr>\n",
       "      <th>888</th>\n",
       "    </tr>\n",
       "    <tr>\n",
       "      <th>889</th>\n",
       "    </tr>\n",
       "    <tr>\n",
       "      <th>890</th>\n",
       "    </tr>\n",
       "  </tbody>\n",
       "</table>\n",
       "<p>891 rows × 0 columns</p>\n",
       "</div>"
      ],
      "text/plain": [
       "Empty DataFrame\n",
       "Columns: []\n",
       "Index: [0, 1, 2, 3, 4, 5, 6, 7, 8, 9, 10, 11, 12, 13, 14, 15, 16, 17, 18, 19, 20, 21, 22, 23, 24, 25, 26, 27, 28, 29, 30, 31, 32, 33, 34, 35, 36, 37, 38, 39, 40, 41, 42, 43, 44, 45, 46, 47, 48, 49, 50, 51, 52, 53, 54, 55, 56, 57, 58, 59, 60, 61, 62, 63, 64, 65, 66, 67, 68, 69, 70, 71, 72, 73, 74, 75, 76, 77, 78, 79, 80, 81, 82, 83, 84, 85, 86, 87, 88, 89, 90, 91, 92, 93, 94, 95, 96, 97, 98, 99, ...]\n",
       "\n",
       "[891 rows x 0 columns]"
      ]
     },
     "execution_count": 6,
     "metadata": {},
     "output_type": "execute_result"
    }
   ],
   "source": [
    "train_df[[]] # [] 개수에 따른 출력 형태 차이"
   ]
  },
  {
   "cell_type": "markdown",
   "id": "b8522d13",
   "metadata": {},
   "source": [
    "Embarked, Survived, PassengerId만을 포함하는 Data Frame을 출력해 보자"
   ]
  },
  {
   "cell_type": "code",
   "execution_count": null,
   "id": "21d70334",
   "metadata": {},
   "outputs": [],
   "source": []
  },
  {
   "cell_type": "markdown",
   "id": "e24fb401",
   "metadata": {},
   "source": [
    "<span style=\"color:#808080\"># train_df[[\"Embarked\", \"Survived\", \"PassengerId\"]].dropna()</span>  "
   ]
  },
  {
   "cell_type": "code",
   "execution_count": null,
   "id": "b532e4a4",
   "metadata": {},
   "outputs": [],
   "source": []
  },
  {
   "cell_type": "markdown",
   "id": "faed17ad",
   "metadata": {},
   "source": [
    "데이터들을 그룹화하기 // groupby([\"Embarked\"])  \n",
    "<span style=\"color:#808080\"># train_df[[\"Embarked\", \"Survived\", \"PassengerId\"]].dropna().groupby([\"Embarked\", \"Survived\"]).count()</span>"
   ]
  },
  {
   "cell_type": "code",
   "execution_count": null,
   "id": "bc603dbf",
   "metadata": {},
   "outputs": [],
   "source": []
  },
  {
   "cell_type": "markdown",
   "id": "274c14a9",
   "metadata": {},
   "source": [
    "<span style=\"color:#808080\"># embarked_df = train_df[[\"Embarked\", \"Survived\", \"PassengerId\"]].dropna().groupby([\"Embarked\", \"Survived\"]).count().unstack()</span>"
   ]
  },
  {
   "cell_type": "code",
   "execution_count": null,
   "id": "6e66145b",
   "metadata": {},
   "outputs": [],
   "source": []
  },
  {
   "cell_type": "markdown",
   "id": "46f371b0",
   "metadata": {},
   "source": [
    "### ■ 데이터 조작하기\n",
    "#### 2. 데이터 프레임을 자유롭게 조작하기\n",
    "- 새로운 열 추가하기 / embarked_df[\"survived_rate\"] = ...\n",
    "- 이름이 대신 번호로 데이터 프레임 조작하기 / embarked_df.iloc[행 번호, 열 번호]\n",
    "- 원하지 않는 행이나 열을 제거하는 drop()\n"
   ]
  },
  {
   "cell_type": "markdown",
   "id": "ef3dd294",
   "metadata": {},
   "source": [
    "<span style=\"color:#808080\"># embarked_df[\"survived_rate\"] = embarked_df.iloc[:, 1] / (embarked_df.iloc[:, 0] + embarked_df.iloc[:, 1])</span>"
   ]
  },
  {
   "cell_type": "code",
   "execution_count": null,
   "id": "af1871cd",
   "metadata": {},
   "outputs": [],
   "source": [
    "embarked_df.iloc[:,1] # 작업하고 싶은 대상의 열에 숫자, 무시하고 싶은 열에 :\n",
    "embarked_df[\"survivevd_rate\"] # 생존 확률 "
   ]
  },
  {
   "cell_type": "markdown",
   "id": "71489c9e",
   "metadata": {},
   "source": [
    "### ▩ 데이터 시각화하기\n",
    "#### 1. 데이터 프레임을 자유롭게 조작하기\n",
    "- plot 함수 이용하기 / embarked_df.plot.bar()\n",
    "- 히스토그램 그리기 / plt.his(x=[train_df.Age[train_df.Survived==0], train_df.Age[train_df.Survived==1]], ...)\n",
    "- 상관관계 그래프 그리기 / pd.corr(), sns.heatmap()\n",
    "\n",
    " \n",
    "<img src=\"https://matplotlib.org/stable/_static/images/logo2.svg\" width=\"500px\" height=\"500px\" title=\"Matplotlib_Logo\"/>\n",
    "\n",
    "#### matplotlib과 seaborn 임포트하기 \n",
    "```python\n",
    "%matplotlib inline\n",
    "import matplotlib.pyplot as plt\n",
    "import seaborn as sns\n",
    "plt.style.use(\"ggplot\")\n",
    "```"
   ]
  },
  {
   "cell_type": "code",
   "execution_count": null,
   "id": "d8fe6c6a",
   "metadata": {},
   "outputs": [],
   "source": [
    "embarked_df.iloc[:,0:2].plot.bar(stacked=True) # 0, 1번째 열만 나타내고 싶을 때 iloc[] 추가"
   ]
  },
  {
   "cell_type": "markdown",
   "id": "fc63489a",
   "metadata": {},
   "source": [
    "연습문제  \n",
    "(1) 성별에 따른 생존자 수 그래프 그리기 & 생존율 계산하기   \n",
    "(2) 티켓 등급에 따른 생존자 수 그래프 그리기 & 생존율 계산하기  \n",
    "<span style=\"color:#808080\"># sex_df = train_df[[\"Sex\", \"Survived\", \"PassengerId\"]].dropna().groupby([\"Sex\", \"Survived\"]).count().unstack()</span>  \n",
    "<span style=\"color:#808080\"># sex_df.plot.bar(stacked=True)</span>  \n",
    "<span style=\"color:#808080\"># sex_df[\"survived_rate\"] = sex_df.iloc[:, 1] / (sex_df.iloc[:, 0] + sex_df.iloc[:, 1]) </span>  "
   ]
  },
  {
   "cell_type": "code",
   "execution_count": null,
   "id": "194a34e6",
   "metadata": {},
   "outputs": [],
   "source": [
    "Pclass_df = train_df[[\"Pclass\", \"Survived\", \"PassengerId\"]].dropna().groupby([\"Pclass\", \"Survived\"]).count().unstack()\n",
    "Pclass_df.plot.bar(stacked=True)\n",
    "Pclass_df[\"survived_rate\"] = Pclass_df.iloc[:,[]]/(Pclass_df.iloc[] + Pclass_df.iloc[])"
   ]
  },
  {
   "cell_type": "markdown",
   "id": "11377357",
   "metadata": {},
   "source": [
    "히스토그램 그리기(막대그래프),\n",
    "![image.jpg2](https://kr.mathworks.com/help/matlab/ref/histogramofvectordataexample_01_ko_KR.png) |![image.jpg1](https://wikidocs.net/images/page/188126/his_13.png) \n",
    "--- | ---  \n",
    "\n",
    "막대의 개수: bins"
   ]
  },
  {
   "cell_type": "code",
   "execution_count": null,
   "id": "41f4f391",
   "metadata": {},
   "outputs": [],
   "source": [
    "plt.hist(x = [train_df.Age[train_df.Survived==0],train_df.Age[train_df.Survived==1]], bins=8, histtype=\"barstacked\", label[\"Death\", \"Survived\"])"
   ]
  },
  {
   "cell_type": "markdown",
   "id": "a8841462",
   "metadata": {},
   "source": [
    "### 히트맵: 상관계수 분석\n",
    "<img src = \"https://t1.daumcdn.net/thumb/R720x0.fpng/?fname=http://t1.daumcdn.net/brunch/service/user/ax8L/image/2NUtU6PJH-km0Mm7Q13o2k9xH_M.png\"/>"
   ]
  },
  {
   "cell_type": "code",
   "execution_count": null,
   "id": "f17a2c53",
   "metadata": {},
   "outputs": [],
   "source": [
    "#수치형 변수에 대해서만 다뤄서 Embarked 없음.\n",
    "train_df.corr()"
   ]
  },
  {
   "cell_type": "markdown",
   "id": "b379cb64",
   "metadata": {},
   "source": [
    "## One-Hot Encoding: \n",
    "### 어떤 카테고리 변수에 대하여 그 값의 여부를 0, 1로 나타내는 방법  \n",
    "<img src=\"https://img1.daumcdn.net/thumb/R1280x0/?scode=mtistory2&fname=https%3A%2F%2Fblog.kakaocdn.net%2Fdn%2FcixI3h%2FbtrC7fs00ei%2FchGsKb2yyG7krH8kSl7JP0%2Fimg.png\" />\n",
    "pd.get_dummies(DataFrame, column=list, drop_first=)"
   ]
  },
  {
   "cell_type": "code",
   "execution_count": null,
   "id": "39428f61",
   "metadata": {},
   "outputs": [],
   "source": [
    "train_df_corr = pd.get_dummies(train_df, columns=[\"Emba\"]) # 남/여와 같이 이분화되었다면 drop=True 속성 추가\n",
    "train_df_corr.corr()\n",
    "\n",
    "sns.heatmap(train_df_corr.corr(), vmax, vmin, center, annot=True)"
   ]
  },
  {
   "cell_type": "markdown",
   "id": "b9c25698",
   "metadata": {},
   "source": [
    "### ■ 데이터 전처리하기\n",
    "#### 1. 데이터 병합하여 결측치 처리하기\n",
    "* loc 함수 이용하기 [!] [iloc과 loc의 차이](https://gagadi.tistory.com/16)\n",
    "- 서로 다른 두 데이터 프레임 병합하기 / pd.concat([df1, df2])  # 상하 또는 좌우로 합침.\n",
    "- 서로 다른 두 데이터 프레임 합치기 / pd.merge(df1, df2) # join 테이블"
   ]
  },
  {
   "cell_type": "markdown",
   "id": "75f2bb95",
   "metadata": {},
   "source": [
    "#### Q. Name에 있는 호칭\n",
    "Mr: 남자, \n",
    "Mrs: 기혼 여성, \n",
    "Miss: 미혼 여성, \n",
    "Ms: 상관 없이 사용 \n",
    "#### 으로 나이 결측값 대체  "
   ]
  },
  {
   "cell_type": "code",
   "execution_count": 8,
   "id": "8b280f56",
   "metadata": {},
   "outputs": [
    {
     "ename": "NameError",
     "evalue": "name 'all_df' is not defined",
     "output_type": "error",
     "traceback": [
      "\u001b[1;31m---------------------------------------------------------------------------\u001b[0m",
      "\u001b[1;31mNameError\u001b[0m                                 Traceback (most recent call last)",
      "Cell \u001b[1;32mIn[8], line 2\u001b[0m\n\u001b[0;32m      1\u001b[0m \u001b[38;5;66;03m# 호칭으로 나이 결측값 대체할 때 train만 사용할 필요 없이 test와 train concat\u001b[39;00m\n\u001b[1;32m----> 2\u001b[0m name_df \u001b[38;5;241m=\u001b[39m \u001b[43mall_df\u001b[49m[\u001b[38;5;124m\"\u001b[39m\u001b[38;5;124mName\u001b[39m\u001b[38;5;124m\"\u001b[39m]\u001b[38;5;241m.\u001b[39mstr\u001b[38;5;241m.\u001b[39msplit(\u001b[38;5;124m\"\u001b[39m\u001b[38;5;124m[,]\u001b[39m\u001b[38;5;124m\"\u001b[39m, \u001b[38;5;241m2\u001b[39m, expand\u001b[38;5;241m=\u001b[39m\u001b[38;5;28;01mTrue\u001b[39;00m)\n\u001b[0;32m      3\u001b[0m name_df\u001b[38;5;241m.\u001b[39mcolumns \u001b[38;5;241m=\u001b[39m [\u001b[38;5;124m\"\u001b[39m\u001b[38;5;124mFamily_name\u001b[39m\u001b[38;5;124m\"\u001b[39m, \u001b[38;5;124m\"\u001b[39m\u001b[38;5;124m\"\u001b[39m, \u001b[38;5;124m\"\u001b[39m\u001b[38;5;124m\"\u001b[39m]\n\u001b[0;32m      4\u001b[0m named_df\n",
      "\u001b[1;31mNameError\u001b[0m: name 'all_df' is not defined"
     ]
    }
   ],
   "source": [
    "# 호칭으로 나이 결측값 대체할 때 train만 사용할 필요 없이 test와 train concat\n",
    "name_df = all_df[\"Name\"].str.split(\"[,]\", 2, expand=True)\n",
    "name_df.columns = [\"Family_name\", \"\", \"\"]\n",
    "named_df\n",
    "all_df = pd.concat([all_df, name_df], axis=1)\n",
    "all_df = all_df.drop([], axis=1) # axis=1 유지\n",
    "# 나머지 똑같음."
   ]
  },
  {
   "cell_type": "markdown",
   "id": "5135f0f2",
   "metadata": {},
   "source": [
    "#### Q. Fare(운임) 값을 Pclass의 값의 평균으로 대체"
   ]
  },
  {
   "cell_type": "code",
   "execution_count": null,
   "id": "85b023c0",
   "metadata": {},
   "outputs": [],
   "source": []
  },
  {
   "cell_type": "markdown",
   "id": "b0214e6e",
   "metadata": {},
   "source": [
    "### ■ 데이터 전처리하기\n",
    "#### 2. 새로운 변수 추가하기"
   ]
  },
  {
   "cell_type": "markdown",
   "id": "24b42071",
   "metadata": {},
   "source": [
    "#### Q. 가족이 많은 경우에 탈출이 유리하지 않았을까?"
   ]
  },
  {
   "cell_type": "code",
   "execution_count": null,
   "id": "44ca0320",
   "metadata": {},
   "outputs": [],
   "source": []
  },
  {
   "cell_type": "markdown",
   "id": "f394b56b",
   "metadata": {},
   "source": [
    "#### Q. 혼자 있는 경우는 또 다를까?"
   ]
  },
  {
   "cell_type": "code",
   "execution_count": null,
   "id": "00086939",
   "metadata": {},
   "outputs": [],
   "source": []
  },
  {
   "cell_type": "markdown",
   "id": "2b39fb42",
   "metadata": {},
   "source": [
    "### ■ 데이터 전처리하기\n",
    "#### 3. 데이터 인코딩하기\n",
    "- LabelEncoder를 이용한 라벨 인코딩\n",
    "\n",
    "<img src=\"https://img1.daumcdn.net/thumb/R1280x0/?scode=mtistory2&fname=https%3A%2F%2Fblog.kakaocdn.net%2Fdn%2FdyRbO6%2FbtruE7IGQly%2FhyhFLuuYKCiNDXVzDKaNR0%2Fimg.png\" />\n",
    "\n",
    "```python\n",
    "from sklearn.preprocessing import LabelEncoder\n",
    "```"
   ]
  },
  {
   "cell_type": "code",
   "execution_count": null,
   "id": "82c06986",
   "metadata": {},
   "outputs": [],
   "source": []
  }
 ],
 "metadata": {
  "kernelspec": {
   "display_name": "Python 3 (ipykernel)",
   "language": "python",
   "name": "python3"
  },
  "language_info": {
   "codemirror_mode": {
    "name": "ipython",
    "version": 3
   },
   "file_extension": ".py",
   "mimetype": "text/x-python",
   "name": "python",
   "nbconvert_exporter": "python",
   "pygments_lexer": "ipython3",
   "version": "3.10.9"
  }
 },
 "nbformat": 4,
 "nbformat_minor": 5
}
